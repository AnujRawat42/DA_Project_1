{
  "nbformat": 4,
  "nbformat_minor": 0,
  "metadata": {
    "colab": {
      "name": "DA_Project.ipynb",
      "provenance": [],
      "authorship_tag": "ABX9TyMPZnx+42vMcBbSmv3dIQX5",
      "include_colab_link": true
    },
    "kernelspec": {
      "name": "python3",
      "display_name": "Python 3"
    },
    "language_info": {
      "name": "python"
    }
  },
  "cells": [
    {
      "cell_type": "markdown",
      "metadata": {
        "id": "view-in-github",
        "colab_type": "text"
      },
      "source": [
        "<a href=\"https://colab.research.google.com/github/AnujRawat42/DA_Project_1/blob/main/DA_Project.ipynb\" target=\"_parent\"><img src=\"https://colab.research.google.com/assets/colab-badge.svg\" alt=\"Open In Colab\"/></a>"
      ]
    },
    {
      "cell_type": "code",
      "source": [
        "from google.colab import drive\n",
        "drive.mount('/content/drive')"
      ],
      "metadata": {
        "colab": {
          "base_uri": "https://localhost:8080/"
        },
        "id": "0_UHs0gFkQsJ",
        "outputId": "b784fe78-cee4-4d4c-853b-b8a52478c628"
      },
      "execution_count": 2,
      "outputs": [
        {
          "output_type": "stream",
          "name": "stdout",
          "text": [
            "Mounted at /content/drive\n"
          ]
        }
      ]
    },
    {
      "cell_type": "code",
      "source": [
        "import seaborn as sns\n",
        "import pandas as pd\n",
        "import numpy as np\n",
        "import matplotlib.pyplot as plt\n",
        "\n"
      ],
      "metadata": {
        "id": "nab5dOW3pW6I"
      },
      "execution_count": 3,
      "outputs": []
    },
    {
      "cell_type": "code",
      "source": [
        "df=pd.read_csv(\"/content/drive/MyDrive/colab files/naukri_com-job_sample.csv\")  # Reading the data\n",
        "df.head(4)"
      ],
      "metadata": {
        "colab": {
          "base_uri": "https://localhost:8080/",
          "height": 427
        },
        "id": "SErEy9iI68R3",
        "outputId": "8a43f8d8-2f5b-468a-968b-e1d40f7f3370"
      },
      "execution_count": 4,
      "outputs": [
        {
          "output_type": "execute_result",
          "data": {
            "text/plain": [
              "                               company  \\\n",
              "0                     MM Media Pvt Ltd   \n",
              "1                   find live infotech   \n",
              "2  Softtech Career Infosystem Pvt. Ltd   \n",
              "3               Onboard HRServices LLP   \n",
              "\n",
              "                                           education   experience  \\\n",
              "0  UG: B.Tech/B.E. - Any Specialization PG:Any Po...    0 - 1 yrs   \n",
              "1  UG: B.Tech/B.E. - Any Specialization PG:MBA/PG...    0 - 0 yrs   \n",
              "2  UG: Any Graduate - Any Specialization PG:Any P...    4 - 8 yrs   \n",
              "3  UG: Any Graduate - Any Specialization PG:CA Do...  11 - 15 yrs   \n",
              "\n",
              "                                   industry  \\\n",
              "0          Media / Entertainment / Internet   \n",
              "1  Advertising / PR / MR / Event Management   \n",
              "2           IT-Software / Software Services   \n",
              "3    Banking / Financial Services / Broking   \n",
              "\n",
              "                                      jobdescription         jobid  \\\n",
              "0  Job Description   Send me Jobs like this Quali...  210516002263   \n",
              "1  Job Description   Send me Jobs like this Quali...  210516002391   \n",
              "2  Job Description   Send me Jobs like this - as ...  101016900534   \n",
              "3  Job Description   Send me Jobs like this - Inv...   81016900536   \n",
              "\n",
              "                                 joblocation_address  \\\n",
              "0                                            Chennai   \n",
              "1                                            Chennai   \n",
              "2                                          Bengaluru   \n",
              "3  Mumbai, Bengaluru, Kolkata, Chennai, Coimbator...   \n",
              "\n",
              "                                   jobtitle  numberofpositions  \\\n",
              "0  Walkin Data Entry Operator (night Shift)                NaN   \n",
              "1        Work Based Onhome Based Part Time.               60.0   \n",
              "2                    Pl/sql Developer - SQL                NaN   \n",
              "3    Manager/ad/partner - Indirect Tax - CA                NaN   \n",
              "\n",
              "                          payrate                   postdate site_name  \\\n",
              "0         1,50,000 - 2,25,000 P.A  2016-05-21 19:30:00 +0000       NaN   \n",
              "1  1,50,000 - 2,50,000 P.A. 20000  2016-05-21 19:30:00 +0000       NaN   \n",
              "2      Not Disclosed by Recruiter  2016-10-13 16:20:55 +0000       NaN   \n",
              "3      Not Disclosed by Recruiter  2016-10-13 16:20:55 +0000       NaN   \n",
              "\n",
              "                                  skills                           uniq_id  \n",
              "0                                   ITES  43b19632647068535437c774b6ca6cf8  \n",
              "1                              Marketing  d4c72325e57f89f364812b5ed5a795f0  \n",
              "2  IT Software - Application Programming  c47df6f4cfdf5b46f1fd713ba61b9eba  \n",
              "3                               Accounts  115d28f140f694dd1cc61c53d03c66ae  "
            ],
            "text/html": [
              "\n",
              "  <div id=\"df-17b9b10f-637f-4a64-85c4-88ef36f1ca17\">\n",
              "    <div class=\"colab-df-container\">\n",
              "      <div>\n",
              "<style scoped>\n",
              "    .dataframe tbody tr th:only-of-type {\n",
              "        vertical-align: middle;\n",
              "    }\n",
              "\n",
              "    .dataframe tbody tr th {\n",
              "        vertical-align: top;\n",
              "    }\n",
              "\n",
              "    .dataframe thead th {\n",
              "        text-align: right;\n",
              "    }\n",
              "</style>\n",
              "<table border=\"1\" class=\"dataframe\">\n",
              "  <thead>\n",
              "    <tr style=\"text-align: right;\">\n",
              "      <th></th>\n",
              "      <th>company</th>\n",
              "      <th>education</th>\n",
              "      <th>experience</th>\n",
              "      <th>industry</th>\n",
              "      <th>jobdescription</th>\n",
              "      <th>jobid</th>\n",
              "      <th>joblocation_address</th>\n",
              "      <th>jobtitle</th>\n",
              "      <th>numberofpositions</th>\n",
              "      <th>payrate</th>\n",
              "      <th>postdate</th>\n",
              "      <th>site_name</th>\n",
              "      <th>skills</th>\n",
              "      <th>uniq_id</th>\n",
              "    </tr>\n",
              "  </thead>\n",
              "  <tbody>\n",
              "    <tr>\n",
              "      <th>0</th>\n",
              "      <td>MM Media Pvt Ltd</td>\n",
              "      <td>UG: B.Tech/B.E. - Any Specialization PG:Any Po...</td>\n",
              "      <td>0 - 1 yrs</td>\n",
              "      <td>Media / Entertainment / Internet</td>\n",
              "      <td>Job Description   Send me Jobs like this Quali...</td>\n",
              "      <td>210516002263</td>\n",
              "      <td>Chennai</td>\n",
              "      <td>Walkin Data Entry Operator (night Shift)</td>\n",
              "      <td>NaN</td>\n",
              "      <td>1,50,000 - 2,25,000 P.A</td>\n",
              "      <td>2016-05-21 19:30:00 +0000</td>\n",
              "      <td>NaN</td>\n",
              "      <td>ITES</td>\n",
              "      <td>43b19632647068535437c774b6ca6cf8</td>\n",
              "    </tr>\n",
              "    <tr>\n",
              "      <th>1</th>\n",
              "      <td>find live infotech</td>\n",
              "      <td>UG: B.Tech/B.E. - Any Specialization PG:MBA/PG...</td>\n",
              "      <td>0 - 0 yrs</td>\n",
              "      <td>Advertising / PR / MR / Event Management</td>\n",
              "      <td>Job Description   Send me Jobs like this Quali...</td>\n",
              "      <td>210516002391</td>\n",
              "      <td>Chennai</td>\n",
              "      <td>Work Based Onhome Based Part Time.</td>\n",
              "      <td>60.0</td>\n",
              "      <td>1,50,000 - 2,50,000 P.A. 20000</td>\n",
              "      <td>2016-05-21 19:30:00 +0000</td>\n",
              "      <td>NaN</td>\n",
              "      <td>Marketing</td>\n",
              "      <td>d4c72325e57f89f364812b5ed5a795f0</td>\n",
              "    </tr>\n",
              "    <tr>\n",
              "      <th>2</th>\n",
              "      <td>Softtech Career Infosystem Pvt. Ltd</td>\n",
              "      <td>UG: Any Graduate - Any Specialization PG:Any P...</td>\n",
              "      <td>4 - 8 yrs</td>\n",
              "      <td>IT-Software / Software Services</td>\n",
              "      <td>Job Description   Send me Jobs like this - as ...</td>\n",
              "      <td>101016900534</td>\n",
              "      <td>Bengaluru</td>\n",
              "      <td>Pl/sql Developer - SQL</td>\n",
              "      <td>NaN</td>\n",
              "      <td>Not Disclosed by Recruiter</td>\n",
              "      <td>2016-10-13 16:20:55 +0000</td>\n",
              "      <td>NaN</td>\n",
              "      <td>IT Software - Application Programming</td>\n",
              "      <td>c47df6f4cfdf5b46f1fd713ba61b9eba</td>\n",
              "    </tr>\n",
              "    <tr>\n",
              "      <th>3</th>\n",
              "      <td>Onboard HRServices LLP</td>\n",
              "      <td>UG: Any Graduate - Any Specialization PG:CA Do...</td>\n",
              "      <td>11 - 15 yrs</td>\n",
              "      <td>Banking / Financial Services / Broking</td>\n",
              "      <td>Job Description   Send me Jobs like this - Inv...</td>\n",
              "      <td>81016900536</td>\n",
              "      <td>Mumbai, Bengaluru, Kolkata, Chennai, Coimbator...</td>\n",
              "      <td>Manager/ad/partner - Indirect Tax - CA</td>\n",
              "      <td>NaN</td>\n",
              "      <td>Not Disclosed by Recruiter</td>\n",
              "      <td>2016-10-13 16:20:55 +0000</td>\n",
              "      <td>NaN</td>\n",
              "      <td>Accounts</td>\n",
              "      <td>115d28f140f694dd1cc61c53d03c66ae</td>\n",
              "    </tr>\n",
              "  </tbody>\n",
              "</table>\n",
              "</div>\n",
              "      <button class=\"colab-df-convert\" onclick=\"convertToInteractive('df-17b9b10f-637f-4a64-85c4-88ef36f1ca17')\"\n",
              "              title=\"Convert this dataframe to an interactive table.\"\n",
              "              style=\"display:none;\">\n",
              "        \n",
              "  <svg xmlns=\"http://www.w3.org/2000/svg\" height=\"24px\"viewBox=\"0 0 24 24\"\n",
              "       width=\"24px\">\n",
              "    <path d=\"M0 0h24v24H0V0z\" fill=\"none\"/>\n",
              "    <path d=\"M18.56 5.44l.94 2.06.94-2.06 2.06-.94-2.06-.94-.94-2.06-.94 2.06-2.06.94zm-11 1L8.5 8.5l.94-2.06 2.06-.94-2.06-.94L8.5 2.5l-.94 2.06-2.06.94zm10 10l.94 2.06.94-2.06 2.06-.94-2.06-.94-.94-2.06-.94 2.06-2.06.94z\"/><path d=\"M17.41 7.96l-1.37-1.37c-.4-.4-.92-.59-1.43-.59-.52 0-1.04.2-1.43.59L10.3 9.45l-7.72 7.72c-.78.78-.78 2.05 0 2.83L4 21.41c.39.39.9.59 1.41.59.51 0 1.02-.2 1.41-.59l7.78-7.78 2.81-2.81c.8-.78.8-2.07 0-2.86zM5.41 20L4 18.59l7.72-7.72 1.47 1.35L5.41 20z\"/>\n",
              "  </svg>\n",
              "      </button>\n",
              "      \n",
              "  <style>\n",
              "    .colab-df-container {\n",
              "      display:flex;\n",
              "      flex-wrap:wrap;\n",
              "      gap: 12px;\n",
              "    }\n",
              "\n",
              "    .colab-df-convert {\n",
              "      background-color: #E8F0FE;\n",
              "      border: none;\n",
              "      border-radius: 50%;\n",
              "      cursor: pointer;\n",
              "      display: none;\n",
              "      fill: #1967D2;\n",
              "      height: 32px;\n",
              "      padding: 0 0 0 0;\n",
              "      width: 32px;\n",
              "    }\n",
              "\n",
              "    .colab-df-convert:hover {\n",
              "      background-color: #E2EBFA;\n",
              "      box-shadow: 0px 1px 2px rgba(60, 64, 67, 0.3), 0px 1px 3px 1px rgba(60, 64, 67, 0.15);\n",
              "      fill: #174EA6;\n",
              "    }\n",
              "\n",
              "    [theme=dark] .colab-df-convert {\n",
              "      background-color: #3B4455;\n",
              "      fill: #D2E3FC;\n",
              "    }\n",
              "\n",
              "    [theme=dark] .colab-df-convert:hover {\n",
              "      background-color: #434B5C;\n",
              "      box-shadow: 0px 1px 3px 1px rgba(0, 0, 0, 0.15);\n",
              "      filter: drop-shadow(0px 1px 2px rgba(0, 0, 0, 0.3));\n",
              "      fill: #FFFFFF;\n",
              "    }\n",
              "  </style>\n",
              "\n",
              "      <script>\n",
              "        const buttonEl =\n",
              "          document.querySelector('#df-17b9b10f-637f-4a64-85c4-88ef36f1ca17 button.colab-df-convert');\n",
              "        buttonEl.style.display =\n",
              "          google.colab.kernel.accessAllowed ? 'block' : 'none';\n",
              "\n",
              "        async function convertToInteractive(key) {\n",
              "          const element = document.querySelector('#df-17b9b10f-637f-4a64-85c4-88ef36f1ca17');\n",
              "          const dataTable =\n",
              "            await google.colab.kernel.invokeFunction('convertToInteractive',\n",
              "                                                     [key], {});\n",
              "          if (!dataTable) return;\n",
              "\n",
              "          const docLinkHtml = 'Like what you see? Visit the ' +\n",
              "            '<a target=\"_blank\" href=https://colab.research.google.com/notebooks/data_table.ipynb>data table notebook</a>'\n",
              "            + ' to learn more about interactive tables.';\n",
              "          element.innerHTML = '';\n",
              "          dataTable['output_type'] = 'display_data';\n",
              "          await google.colab.output.renderOutput(dataTable, element);\n",
              "          const docLink = document.createElement('div');\n",
              "          docLink.innerHTML = docLinkHtml;\n",
              "          element.appendChild(docLink);\n",
              "        }\n",
              "      </script>\n",
              "    </div>\n",
              "  </div>\n",
              "  "
            ]
          },
          "metadata": {},
          "execution_count": 4
        }
      ]
    },
    {
      "cell_type": "code",
      "source": [
        "df.columns"
      ],
      "metadata": {
        "colab": {
          "base_uri": "https://localhost:8080/"
        },
        "id": "i9PhVYeY7Qg3",
        "outputId": "b03fbfaa-f3bc-4e13-c214-961962fcb314"
      },
      "execution_count": 5,
      "outputs": [
        {
          "output_type": "execute_result",
          "data": {
            "text/plain": [
              "Index(['company', 'education', 'experience', 'industry', 'jobdescription',\n",
              "       'jobid', 'joblocation_address', 'jobtitle', 'numberofpositions',\n",
              "       'payrate', 'postdate', 'site_name', 'skills', 'uniq_id'],\n",
              "      dtype='object')"
            ]
          },
          "metadata": {},
          "execution_count": 5
        }
      ]
    },
    {
      "cell_type": "code",
      "source": [
        "df.shape"
      ],
      "metadata": {
        "colab": {
          "base_uri": "https://localhost:8080/"
        },
        "id": "oN5SK1-27W7v",
        "outputId": "cbca1cdf-d9a3-47d8-b9eb-b9b602cd8825"
      },
      "execution_count": 6,
      "outputs": [
        {
          "output_type": "execute_result",
          "data": {
            "text/plain": [
              "(22000, 14)"
            ]
          },
          "metadata": {},
          "execution_count": 6
        }
      ]
    },
    {
      "cell_type": "markdown",
      "source": [
        "## Cleaning the payrate column feature:\n",
        "\n",
        "---\n",
        "\n"
      ],
      "metadata": {
        "id": "iFNOPL0UehA-"
      }
    },
    {
      "cell_type": "code",
      "source": [
        "payrate_split=df['payrate'].str.split('-',expand=True)  # Spliting the pairs of payrate\n",
        "payrate_split\n"
      ],
      "metadata": {
        "colab": {
          "base_uri": "https://localhost:8080/",
          "height": 424
        },
        "id": "P_AIDtc1ksJl",
        "outputId": "9f2fd994-a98b-4ba5-f658-b526018eccf9"
      },
      "execution_count": 7,
      "outputs": [
        {
          "output_type": "execute_result",
          "data": {
            "text/plain": [
              "                                0                     1     2     3     4  \\\n",
              "0                       1,50,000           2,25,000 P.A  None  None  None   \n",
              "1                       1,50,000    2,50,000 P.A. 20000  None  None  None   \n",
              "2      Not Disclosed by Recruiter                  None  None  None  None   \n",
              "3      Not Disclosed by Recruiter                  None  None  None  None   \n",
              "4      Not Disclosed by Recruiter                  None  None  None  None   \n",
              "...                           ...                   ...   ...   ...   ...   \n",
              "21995  Not Disclosed by Recruiter                  None  None  None  None   \n",
              "21996                   8,50,000          14,00,000 P.A  None  None  None   \n",
              "21997  Not Disclosed by Recruiter                  None  None  None  None   \n",
              "21998  Not Disclosed by Recruiter                  None  None  None  None   \n",
              "21999                  12,00,000          22,00,000 P.A  None  None  None   \n",
              "\n",
              "          5     6  \n",
              "0      None  None  \n",
              "1      None  None  \n",
              "2      None  None  \n",
              "3      None  None  \n",
              "4      None  None  \n",
              "...     ...   ...  \n",
              "21995  None  None  \n",
              "21996  None  None  \n",
              "21997  None  None  \n",
              "21998  None  None  \n",
              "21999  None  None  \n",
              "\n",
              "[22000 rows x 7 columns]"
            ],
            "text/html": [
              "\n",
              "  <div id=\"df-ce85c933-d596-45f1-af06-01e5c3a0f794\">\n",
              "    <div class=\"colab-df-container\">\n",
              "      <div>\n",
              "<style scoped>\n",
              "    .dataframe tbody tr th:only-of-type {\n",
              "        vertical-align: middle;\n",
              "    }\n",
              "\n",
              "    .dataframe tbody tr th {\n",
              "        vertical-align: top;\n",
              "    }\n",
              "\n",
              "    .dataframe thead th {\n",
              "        text-align: right;\n",
              "    }\n",
              "</style>\n",
              "<table border=\"1\" class=\"dataframe\">\n",
              "  <thead>\n",
              "    <tr style=\"text-align: right;\">\n",
              "      <th></th>\n",
              "      <th>0</th>\n",
              "      <th>1</th>\n",
              "      <th>2</th>\n",
              "      <th>3</th>\n",
              "      <th>4</th>\n",
              "      <th>5</th>\n",
              "      <th>6</th>\n",
              "    </tr>\n",
              "  </thead>\n",
              "  <tbody>\n",
              "    <tr>\n",
              "      <th>0</th>\n",
              "      <td>1,50,000</td>\n",
              "      <td>2,25,000 P.A</td>\n",
              "      <td>None</td>\n",
              "      <td>None</td>\n",
              "      <td>None</td>\n",
              "      <td>None</td>\n",
              "      <td>None</td>\n",
              "    </tr>\n",
              "    <tr>\n",
              "      <th>1</th>\n",
              "      <td>1,50,000</td>\n",
              "      <td>2,50,000 P.A. 20000</td>\n",
              "      <td>None</td>\n",
              "      <td>None</td>\n",
              "      <td>None</td>\n",
              "      <td>None</td>\n",
              "      <td>None</td>\n",
              "    </tr>\n",
              "    <tr>\n",
              "      <th>2</th>\n",
              "      <td>Not Disclosed by Recruiter</td>\n",
              "      <td>None</td>\n",
              "      <td>None</td>\n",
              "      <td>None</td>\n",
              "      <td>None</td>\n",
              "      <td>None</td>\n",
              "      <td>None</td>\n",
              "    </tr>\n",
              "    <tr>\n",
              "      <th>3</th>\n",
              "      <td>Not Disclosed by Recruiter</td>\n",
              "      <td>None</td>\n",
              "      <td>None</td>\n",
              "      <td>None</td>\n",
              "      <td>None</td>\n",
              "      <td>None</td>\n",
              "      <td>None</td>\n",
              "    </tr>\n",
              "    <tr>\n",
              "      <th>4</th>\n",
              "      <td>Not Disclosed by Recruiter</td>\n",
              "      <td>None</td>\n",
              "      <td>None</td>\n",
              "      <td>None</td>\n",
              "      <td>None</td>\n",
              "      <td>None</td>\n",
              "      <td>None</td>\n",
              "    </tr>\n",
              "    <tr>\n",
              "      <th>...</th>\n",
              "      <td>...</td>\n",
              "      <td>...</td>\n",
              "      <td>...</td>\n",
              "      <td>...</td>\n",
              "      <td>...</td>\n",
              "      <td>...</td>\n",
              "      <td>...</td>\n",
              "    </tr>\n",
              "    <tr>\n",
              "      <th>21995</th>\n",
              "      <td>Not Disclosed by Recruiter</td>\n",
              "      <td>None</td>\n",
              "      <td>None</td>\n",
              "      <td>None</td>\n",
              "      <td>None</td>\n",
              "      <td>None</td>\n",
              "      <td>None</td>\n",
              "    </tr>\n",
              "    <tr>\n",
              "      <th>21996</th>\n",
              "      <td>8,50,000</td>\n",
              "      <td>14,00,000 P.A</td>\n",
              "      <td>None</td>\n",
              "      <td>None</td>\n",
              "      <td>None</td>\n",
              "      <td>None</td>\n",
              "      <td>None</td>\n",
              "    </tr>\n",
              "    <tr>\n",
              "      <th>21997</th>\n",
              "      <td>Not Disclosed by Recruiter</td>\n",
              "      <td>None</td>\n",
              "      <td>None</td>\n",
              "      <td>None</td>\n",
              "      <td>None</td>\n",
              "      <td>None</td>\n",
              "      <td>None</td>\n",
              "    </tr>\n",
              "    <tr>\n",
              "      <th>21998</th>\n",
              "      <td>Not Disclosed by Recruiter</td>\n",
              "      <td>None</td>\n",
              "      <td>None</td>\n",
              "      <td>None</td>\n",
              "      <td>None</td>\n",
              "      <td>None</td>\n",
              "      <td>None</td>\n",
              "    </tr>\n",
              "    <tr>\n",
              "      <th>21999</th>\n",
              "      <td>12,00,000</td>\n",
              "      <td>22,00,000 P.A</td>\n",
              "      <td>None</td>\n",
              "      <td>None</td>\n",
              "      <td>None</td>\n",
              "      <td>None</td>\n",
              "      <td>None</td>\n",
              "    </tr>\n",
              "  </tbody>\n",
              "</table>\n",
              "<p>22000 rows × 7 columns</p>\n",
              "</div>\n",
              "      <button class=\"colab-df-convert\" onclick=\"convertToInteractive('df-ce85c933-d596-45f1-af06-01e5c3a0f794')\"\n",
              "              title=\"Convert this dataframe to an interactive table.\"\n",
              "              style=\"display:none;\">\n",
              "        \n",
              "  <svg xmlns=\"http://www.w3.org/2000/svg\" height=\"24px\"viewBox=\"0 0 24 24\"\n",
              "       width=\"24px\">\n",
              "    <path d=\"M0 0h24v24H0V0z\" fill=\"none\"/>\n",
              "    <path d=\"M18.56 5.44l.94 2.06.94-2.06 2.06-.94-2.06-.94-.94-2.06-.94 2.06-2.06.94zm-11 1L8.5 8.5l.94-2.06 2.06-.94-2.06-.94L8.5 2.5l-.94 2.06-2.06.94zm10 10l.94 2.06.94-2.06 2.06-.94-2.06-.94-.94-2.06-.94 2.06-2.06.94z\"/><path d=\"M17.41 7.96l-1.37-1.37c-.4-.4-.92-.59-1.43-.59-.52 0-1.04.2-1.43.59L10.3 9.45l-7.72 7.72c-.78.78-.78 2.05 0 2.83L4 21.41c.39.39.9.59 1.41.59.51 0 1.02-.2 1.41-.59l7.78-7.78 2.81-2.81c.8-.78.8-2.07 0-2.86zM5.41 20L4 18.59l7.72-7.72 1.47 1.35L5.41 20z\"/>\n",
              "  </svg>\n",
              "      </button>\n",
              "      \n",
              "  <style>\n",
              "    .colab-df-container {\n",
              "      display:flex;\n",
              "      flex-wrap:wrap;\n",
              "      gap: 12px;\n",
              "    }\n",
              "\n",
              "    .colab-df-convert {\n",
              "      background-color: #E8F0FE;\n",
              "      border: none;\n",
              "      border-radius: 50%;\n",
              "      cursor: pointer;\n",
              "      display: none;\n",
              "      fill: #1967D2;\n",
              "      height: 32px;\n",
              "      padding: 0 0 0 0;\n",
              "      width: 32px;\n",
              "    }\n",
              "\n",
              "    .colab-df-convert:hover {\n",
              "      background-color: #E2EBFA;\n",
              "      box-shadow: 0px 1px 2px rgba(60, 64, 67, 0.3), 0px 1px 3px 1px rgba(60, 64, 67, 0.15);\n",
              "      fill: #174EA6;\n",
              "    }\n",
              "\n",
              "    [theme=dark] .colab-df-convert {\n",
              "      background-color: #3B4455;\n",
              "      fill: #D2E3FC;\n",
              "    }\n",
              "\n",
              "    [theme=dark] .colab-df-convert:hover {\n",
              "      background-color: #434B5C;\n",
              "      box-shadow: 0px 1px 3px 1px rgba(0, 0, 0, 0.15);\n",
              "      filter: drop-shadow(0px 1px 2px rgba(0, 0, 0, 0.3));\n",
              "      fill: #FFFFFF;\n",
              "    }\n",
              "  </style>\n",
              "\n",
              "      <script>\n",
              "        const buttonEl =\n",
              "          document.querySelector('#df-ce85c933-d596-45f1-af06-01e5c3a0f794 button.colab-df-convert');\n",
              "        buttonEl.style.display =\n",
              "          google.colab.kernel.accessAllowed ? 'block' : 'none';\n",
              "\n",
              "        async function convertToInteractive(key) {\n",
              "          const element = document.querySelector('#df-ce85c933-d596-45f1-af06-01e5c3a0f794');\n",
              "          const dataTable =\n",
              "            await google.colab.kernel.invokeFunction('convertToInteractive',\n",
              "                                                     [key], {});\n",
              "          if (!dataTable) return;\n",
              "\n",
              "          const docLinkHtml = 'Like what you see? Visit the ' +\n",
              "            '<a target=\"_blank\" href=https://colab.research.google.com/notebooks/data_table.ipynb>data table notebook</a>'\n",
              "            + ' to learn more about interactive tables.';\n",
              "          element.innerHTML = '';\n",
              "          dataTable['output_type'] = 'display_data';\n",
              "          await google.colab.output.renderOutput(dataTable, element);\n",
              "          const docLink = document.createElement('div');\n",
              "          docLink.innerHTML = docLinkHtml;\n",
              "          element.appendChild(docLink);\n",
              "        }\n",
              "      </script>\n",
              "    </div>\n",
              "  </div>\n",
              "  "
            ]
          },
          "metadata": {},
          "execution_count": 7
        }
      ]
    },
    {
      "cell_type": "code",
      "source": [
        " # Removing the (,) and additional space from the Payrate Feature\n",
        "payrate_split[0]=payrate_split[0].str.replace(',','')    \n",
        "payrate_split[1]=payrate_split[1].str.strip() \n",
        "payrate_split[1]=payrate_split[1].apply(lambda x:str(x).replace(',',''))"
      ],
      "metadata": {
        "id": "DdJwMVNJngUF"
      },
      "execution_count": 8,
      "outputs": []
    },
    {
      "cell_type": "code",
      "source": [
        "#  Removing text using pattern \n",
        "pattern='\\D.*'\n",
        "payrate_split[0]=payrate_split[0].str.replace(pattern,'')\n",
        "payrate_split[1]=payrate_split[1].str.replace(pattern,'')"
      ],
      "metadata": {
        "id": "K23j4_0OVFhh",
        "colab": {
          "base_uri": "https://localhost:8080/"
        },
        "outputId": "b2393b26-d0f2-4a57-aef9-10d3de4130b8"
      },
      "execution_count": 9,
      "outputs": [
        {
          "output_type": "stream",
          "name": "stderr",
          "text": [
            "/usr/local/lib/python3.7/dist-packages/ipykernel_launcher.py:3: FutureWarning: The default value of regex will change from True to False in a future version.\n",
            "  This is separate from the ipykernel package so we can avoid doing imports until\n",
            "/usr/local/lib/python3.7/dist-packages/ipykernel_launcher.py:4: FutureWarning: The default value of regex will change from True to False in a future version.\n",
            "  after removing the cwd from sys.path.\n"
          ]
        }
      ]
    },
    {
      "cell_type": "code",
      "source": [
        "payrate_split[0]=pd.to_numeric(payrate_split[0],errors='coerce')  # Converting the values into float\n",
        "payrate_split[1]=pd.to_numeric(payrate_split[1],errors='coerce')  # Converting the values into float"
      ],
      "metadata": {
        "id": "2nu5s4Bmdias"
      },
      "execution_count": 10,
      "outputs": []
    },
    {
      "cell_type": "code",
      "source": [
        "payrate_split.loc[:,[0,1]]"
      ],
      "metadata": {
        "colab": {
          "base_uri": "https://localhost:8080/",
          "height": 424
        },
        "id": "XHFvR9_3dzP3",
        "outputId": "c18ab152-b589-428f-910b-3d5428513174"
      },
      "execution_count": 11,
      "outputs": [
        {
          "output_type": "execute_result",
          "data": {
            "text/plain": [
              "               0          1\n",
              "0       150000.0   225000.0\n",
              "1       150000.0   250000.0\n",
              "2            NaN        NaN\n",
              "3            NaN        NaN\n",
              "4            NaN        NaN\n",
              "...          ...        ...\n",
              "21995        NaN        NaN\n",
              "21996   850000.0  1400000.0\n",
              "21997        NaN        NaN\n",
              "21998        NaN        NaN\n",
              "21999  1200000.0  2200000.0\n",
              "\n",
              "[22000 rows x 2 columns]"
            ],
            "text/html": [
              "\n",
              "  <div id=\"df-cfb28a9f-84aa-459b-956a-3e3a88e76cff\">\n",
              "    <div class=\"colab-df-container\">\n",
              "      <div>\n",
              "<style scoped>\n",
              "    .dataframe tbody tr th:only-of-type {\n",
              "        vertical-align: middle;\n",
              "    }\n",
              "\n",
              "    .dataframe tbody tr th {\n",
              "        vertical-align: top;\n",
              "    }\n",
              "\n",
              "    .dataframe thead th {\n",
              "        text-align: right;\n",
              "    }\n",
              "</style>\n",
              "<table border=\"1\" class=\"dataframe\">\n",
              "  <thead>\n",
              "    <tr style=\"text-align: right;\">\n",
              "      <th></th>\n",
              "      <th>0</th>\n",
              "      <th>1</th>\n",
              "    </tr>\n",
              "  </thead>\n",
              "  <tbody>\n",
              "    <tr>\n",
              "      <th>0</th>\n",
              "      <td>150000.0</td>\n",
              "      <td>225000.0</td>\n",
              "    </tr>\n",
              "    <tr>\n",
              "      <th>1</th>\n",
              "      <td>150000.0</td>\n",
              "      <td>250000.0</td>\n",
              "    </tr>\n",
              "    <tr>\n",
              "      <th>2</th>\n",
              "      <td>NaN</td>\n",
              "      <td>NaN</td>\n",
              "    </tr>\n",
              "    <tr>\n",
              "      <th>3</th>\n",
              "      <td>NaN</td>\n",
              "      <td>NaN</td>\n",
              "    </tr>\n",
              "    <tr>\n",
              "      <th>4</th>\n",
              "      <td>NaN</td>\n",
              "      <td>NaN</td>\n",
              "    </tr>\n",
              "    <tr>\n",
              "      <th>...</th>\n",
              "      <td>...</td>\n",
              "      <td>...</td>\n",
              "    </tr>\n",
              "    <tr>\n",
              "      <th>21995</th>\n",
              "      <td>NaN</td>\n",
              "      <td>NaN</td>\n",
              "    </tr>\n",
              "    <tr>\n",
              "      <th>21996</th>\n",
              "      <td>850000.0</td>\n",
              "      <td>1400000.0</td>\n",
              "    </tr>\n",
              "    <tr>\n",
              "      <th>21997</th>\n",
              "      <td>NaN</td>\n",
              "      <td>NaN</td>\n",
              "    </tr>\n",
              "    <tr>\n",
              "      <th>21998</th>\n",
              "      <td>NaN</td>\n",
              "      <td>NaN</td>\n",
              "    </tr>\n",
              "    <tr>\n",
              "      <th>21999</th>\n",
              "      <td>1200000.0</td>\n",
              "      <td>2200000.0</td>\n",
              "    </tr>\n",
              "  </tbody>\n",
              "</table>\n",
              "<p>22000 rows × 2 columns</p>\n",
              "</div>\n",
              "      <button class=\"colab-df-convert\" onclick=\"convertToInteractive('df-cfb28a9f-84aa-459b-956a-3e3a88e76cff')\"\n",
              "              title=\"Convert this dataframe to an interactive table.\"\n",
              "              style=\"display:none;\">\n",
              "        \n",
              "  <svg xmlns=\"http://www.w3.org/2000/svg\" height=\"24px\"viewBox=\"0 0 24 24\"\n",
              "       width=\"24px\">\n",
              "    <path d=\"M0 0h24v24H0V0z\" fill=\"none\"/>\n",
              "    <path d=\"M18.56 5.44l.94 2.06.94-2.06 2.06-.94-2.06-.94-.94-2.06-.94 2.06-2.06.94zm-11 1L8.5 8.5l.94-2.06 2.06-.94-2.06-.94L8.5 2.5l-.94 2.06-2.06.94zm10 10l.94 2.06.94-2.06 2.06-.94-2.06-.94-.94-2.06-.94 2.06-2.06.94z\"/><path d=\"M17.41 7.96l-1.37-1.37c-.4-.4-.92-.59-1.43-.59-.52 0-1.04.2-1.43.59L10.3 9.45l-7.72 7.72c-.78.78-.78 2.05 0 2.83L4 21.41c.39.39.9.59 1.41.59.51 0 1.02-.2 1.41-.59l7.78-7.78 2.81-2.81c.8-.78.8-2.07 0-2.86zM5.41 20L4 18.59l7.72-7.72 1.47 1.35L5.41 20z\"/>\n",
              "  </svg>\n",
              "      </button>\n",
              "      \n",
              "  <style>\n",
              "    .colab-df-container {\n",
              "      display:flex;\n",
              "      flex-wrap:wrap;\n",
              "      gap: 12px;\n",
              "    }\n",
              "\n",
              "    .colab-df-convert {\n",
              "      background-color: #E8F0FE;\n",
              "      border: none;\n",
              "      border-radius: 50%;\n",
              "      cursor: pointer;\n",
              "      display: none;\n",
              "      fill: #1967D2;\n",
              "      height: 32px;\n",
              "      padding: 0 0 0 0;\n",
              "      width: 32px;\n",
              "    }\n",
              "\n",
              "    .colab-df-convert:hover {\n",
              "      background-color: #E2EBFA;\n",
              "      box-shadow: 0px 1px 2px rgba(60, 64, 67, 0.3), 0px 1px 3px 1px rgba(60, 64, 67, 0.15);\n",
              "      fill: #174EA6;\n",
              "    }\n",
              "\n",
              "    [theme=dark] .colab-df-convert {\n",
              "      background-color: #3B4455;\n",
              "      fill: #D2E3FC;\n",
              "    }\n",
              "\n",
              "    [theme=dark] .colab-df-convert:hover {\n",
              "      background-color: #434B5C;\n",
              "      box-shadow: 0px 1px 3px 1px rgba(0, 0, 0, 0.15);\n",
              "      filter: drop-shadow(0px 1px 2px rgba(0, 0, 0, 0.3));\n",
              "      fill: #FFFFFF;\n",
              "    }\n",
              "  </style>\n",
              "\n",
              "      <script>\n",
              "        const buttonEl =\n",
              "          document.querySelector('#df-cfb28a9f-84aa-459b-956a-3e3a88e76cff button.colab-df-convert');\n",
              "        buttonEl.style.display =\n",
              "          google.colab.kernel.accessAllowed ? 'block' : 'none';\n",
              "\n",
              "        async function convertToInteractive(key) {\n",
              "          const element = document.querySelector('#df-cfb28a9f-84aa-459b-956a-3e3a88e76cff');\n",
              "          const dataTable =\n",
              "            await google.colab.kernel.invokeFunction('convertToInteractive',\n",
              "                                                     [key], {});\n",
              "          if (!dataTable) return;\n",
              "\n",
              "          const docLinkHtml = 'Like what you see? Visit the ' +\n",
              "            '<a target=\"_blank\" href=https://colab.research.google.com/notebooks/data_table.ipynb>data table notebook</a>'\n",
              "            + ' to learn more about interactive tables.';\n",
              "          element.innerHTML = '';\n",
              "          dataTable['output_type'] = 'display_data';\n",
              "          await google.colab.output.renderOutput(dataTable, element);\n",
              "          const docLink = document.createElement('div');\n",
              "          docLink.innerHTML = docLinkHtml;\n",
              "          element.appendChild(docLink);\n",
              "        }\n",
              "      </script>\n",
              "    </div>\n",
              "  </div>\n",
              "  "
            ]
          },
          "metadata": {},
          "execution_count": 11
        }
      ]
    },
    {
      "cell_type": "code",
      "source": [
        "df['min_pay']=payrate_split[0]  # Renaming the new splitted columns\n",
        "df['max_pay']=payrate_split[1]\n",
        "df['avg_pay']=(df['min_pay']+df['max_pay'])/2  # Calculating Average payrate"
      ],
      "metadata": {
        "id": "fIPPu2QgeQF-"
      },
      "execution_count": 12,
      "outputs": []
    },
    {
      "cell_type": "markdown",
      "source": [
        "## Cleaning the Experience feature\n",
        "\n",
        "---\n",
        "\n",
        "\n",
        "\n",
        "\n"
      ],
      "metadata": {
        "id": "AyiC3l0Re1Pn"
      }
    },
    {
      "cell_type": "code",
      "source": [
        "''' Creating a function to handle all the values \n",
        " which are occuring more than 2 times as \n",
        " experience can only contains 2 values. eg= 0-1 yrs'''\n",
        "\n",
        "def split_exp(exp):                       \n",
        "  try:\n",
        "      if len(exp.split('-'))==2:\n",
        "          min_exp=exp.split('-')[0]\n",
        "          max_exp=exp.split('-')[1]\n",
        "      return pd.Series([min_exp,max_exp])\n",
        "  except:\n",
        "      return pd.Series([np.nan,np.nan])"
      ],
      "metadata": {
        "id": "9pOpDS-ne-3u"
      },
      "execution_count": 13,
      "outputs": []
    },
    {
      "cell_type": "code",
      "source": [
        "df[['min_exp','max_exp']]=df['experience'].apply(split_exp).rename(columns={0:'min_exp',1:'max_exp'})  # Applying the function"
      ],
      "metadata": {
        "id": "-DcA5KDfDcUG"
      },
      "execution_count": 14,
      "outputs": []
    },
    {
      "cell_type": "code",
      "source": [
        "df['max_exp']=df['max_exp'].str.replace('yrs',' ')  # Replacing 'yrs'"
      ],
      "metadata": {
        "id": "xr98LqxsjHpV"
      },
      "execution_count": 15,
      "outputs": []
    },
    {
      "cell_type": "code",
      "source": [
        "df.loc[:,['min_exp','max_exp']]"
      ],
      "metadata": {
        "colab": {
          "base_uri": "https://localhost:8080/",
          "height": 0
        },
        "id": "suEfkJ2zzltw",
        "outputId": "a1960db8-c18e-4638-cd60-34689bb65925"
      },
      "execution_count": 16,
      "outputs": [
        {
          "output_type": "execute_result",
          "data": {
            "text/plain": [
              "      min_exp max_exp\n",
              "0          0      1  \n",
              "1          0      0  \n",
              "2          4      8  \n",
              "3         11     15  \n",
              "4          6      8  \n",
              "...       ...     ...\n",
              "21995      9     13  \n",
              "21996      3      5  \n",
              "21997      2      4  \n",
              "21998      7     12  \n",
              "21999      5     10  \n",
              "\n",
              "[22000 rows x 2 columns]"
            ],
            "text/html": [
              "\n",
              "  <div id=\"df-6ff68383-9e57-433d-8a41-04f906f6168f\">\n",
              "    <div class=\"colab-df-container\">\n",
              "      <div>\n",
              "<style scoped>\n",
              "    .dataframe tbody tr th:only-of-type {\n",
              "        vertical-align: middle;\n",
              "    }\n",
              "\n",
              "    .dataframe tbody tr th {\n",
              "        vertical-align: top;\n",
              "    }\n",
              "\n",
              "    .dataframe thead th {\n",
              "        text-align: right;\n",
              "    }\n",
              "</style>\n",
              "<table border=\"1\" class=\"dataframe\">\n",
              "  <thead>\n",
              "    <tr style=\"text-align: right;\">\n",
              "      <th></th>\n",
              "      <th>min_exp</th>\n",
              "      <th>max_exp</th>\n",
              "    </tr>\n",
              "  </thead>\n",
              "  <tbody>\n",
              "    <tr>\n",
              "      <th>0</th>\n",
              "      <td>0</td>\n",
              "      <td>1</td>\n",
              "    </tr>\n",
              "    <tr>\n",
              "      <th>1</th>\n",
              "      <td>0</td>\n",
              "      <td>0</td>\n",
              "    </tr>\n",
              "    <tr>\n",
              "      <th>2</th>\n",
              "      <td>4</td>\n",
              "      <td>8</td>\n",
              "    </tr>\n",
              "    <tr>\n",
              "      <th>3</th>\n",
              "      <td>11</td>\n",
              "      <td>15</td>\n",
              "    </tr>\n",
              "    <tr>\n",
              "      <th>4</th>\n",
              "      <td>6</td>\n",
              "      <td>8</td>\n",
              "    </tr>\n",
              "    <tr>\n",
              "      <th>...</th>\n",
              "      <td>...</td>\n",
              "      <td>...</td>\n",
              "    </tr>\n",
              "    <tr>\n",
              "      <th>21995</th>\n",
              "      <td>9</td>\n",
              "      <td>13</td>\n",
              "    </tr>\n",
              "    <tr>\n",
              "      <th>21996</th>\n",
              "      <td>3</td>\n",
              "      <td>5</td>\n",
              "    </tr>\n",
              "    <tr>\n",
              "      <th>21997</th>\n",
              "      <td>2</td>\n",
              "      <td>4</td>\n",
              "    </tr>\n",
              "    <tr>\n",
              "      <th>21998</th>\n",
              "      <td>7</td>\n",
              "      <td>12</td>\n",
              "    </tr>\n",
              "    <tr>\n",
              "      <th>21999</th>\n",
              "      <td>5</td>\n",
              "      <td>10</td>\n",
              "    </tr>\n",
              "  </tbody>\n",
              "</table>\n",
              "<p>22000 rows × 2 columns</p>\n",
              "</div>\n",
              "      <button class=\"colab-df-convert\" onclick=\"convertToInteractive('df-6ff68383-9e57-433d-8a41-04f906f6168f')\"\n",
              "              title=\"Convert this dataframe to an interactive table.\"\n",
              "              style=\"display:none;\">\n",
              "        \n",
              "  <svg xmlns=\"http://www.w3.org/2000/svg\" height=\"24px\"viewBox=\"0 0 24 24\"\n",
              "       width=\"24px\">\n",
              "    <path d=\"M0 0h24v24H0V0z\" fill=\"none\"/>\n",
              "    <path d=\"M18.56 5.44l.94 2.06.94-2.06 2.06-.94-2.06-.94-.94-2.06-.94 2.06-2.06.94zm-11 1L8.5 8.5l.94-2.06 2.06-.94-2.06-.94L8.5 2.5l-.94 2.06-2.06.94zm10 10l.94 2.06.94-2.06 2.06-.94-2.06-.94-.94-2.06-.94 2.06-2.06.94z\"/><path d=\"M17.41 7.96l-1.37-1.37c-.4-.4-.92-.59-1.43-.59-.52 0-1.04.2-1.43.59L10.3 9.45l-7.72 7.72c-.78.78-.78 2.05 0 2.83L4 21.41c.39.39.9.59 1.41.59.51 0 1.02-.2 1.41-.59l7.78-7.78 2.81-2.81c.8-.78.8-2.07 0-2.86zM5.41 20L4 18.59l7.72-7.72 1.47 1.35L5.41 20z\"/>\n",
              "  </svg>\n",
              "      </button>\n",
              "      \n",
              "  <style>\n",
              "    .colab-df-container {\n",
              "      display:flex;\n",
              "      flex-wrap:wrap;\n",
              "      gap: 12px;\n",
              "    }\n",
              "\n",
              "    .colab-df-convert {\n",
              "      background-color: #E8F0FE;\n",
              "      border: none;\n",
              "      border-radius: 50%;\n",
              "      cursor: pointer;\n",
              "      display: none;\n",
              "      fill: #1967D2;\n",
              "      height: 32px;\n",
              "      padding: 0 0 0 0;\n",
              "      width: 32px;\n",
              "    }\n",
              "\n",
              "    .colab-df-convert:hover {\n",
              "      background-color: #E2EBFA;\n",
              "      box-shadow: 0px 1px 2px rgba(60, 64, 67, 0.3), 0px 1px 3px 1px rgba(60, 64, 67, 0.15);\n",
              "      fill: #174EA6;\n",
              "    }\n",
              "\n",
              "    [theme=dark] .colab-df-convert {\n",
              "      background-color: #3B4455;\n",
              "      fill: #D2E3FC;\n",
              "    }\n",
              "\n",
              "    [theme=dark] .colab-df-convert:hover {\n",
              "      background-color: #434B5C;\n",
              "      box-shadow: 0px 1px 3px 1px rgba(0, 0, 0, 0.15);\n",
              "      filter: drop-shadow(0px 1px 2px rgba(0, 0, 0, 0.3));\n",
              "      fill: #FFFFFF;\n",
              "    }\n",
              "  </style>\n",
              "\n",
              "      <script>\n",
              "        const buttonEl =\n",
              "          document.querySelector('#df-6ff68383-9e57-433d-8a41-04f906f6168f button.colab-df-convert');\n",
              "        buttonEl.style.display =\n",
              "          google.colab.kernel.accessAllowed ? 'block' : 'none';\n",
              "\n",
              "        async function convertToInteractive(key) {\n",
              "          const element = document.querySelector('#df-6ff68383-9e57-433d-8a41-04f906f6168f');\n",
              "          const dataTable =\n",
              "            await google.colab.kernel.invokeFunction('convertToInteractive',\n",
              "                                                     [key], {});\n",
              "          if (!dataTable) return;\n",
              "\n",
              "          const docLinkHtml = 'Like what you see? Visit the ' +\n",
              "            '<a target=\"_blank\" href=https://colab.research.google.com/notebooks/data_table.ipynb>data table notebook</a>'\n",
              "            + ' to learn more about interactive tables.';\n",
              "          element.innerHTML = '';\n",
              "          dataTable['output_type'] = 'display_data';\n",
              "          await google.colab.output.renderOutput(dataTable, element);\n",
              "          const docLink = document.createElement('div');\n",
              "          docLink.innerHTML = docLinkHtml;\n",
              "          element.appendChild(docLink);\n",
              "        }\n",
              "      </script>\n",
              "    </div>\n",
              "  </div>\n",
              "  "
            ]
          },
          "metadata": {},
          "execution_count": 16
        }
      ]
    },
    {
      "cell_type": "code",
      "source": [
        "# Coverting max and min_pay into float\n",
        "df['min_exp']=df['min_exp'].astype(float)\n",
        "df['max_exp']=df['max_exp'].astype(float)"
      ],
      "metadata": {
        "id": "4W8nMhlAhmkM"
      },
      "execution_count": 17,
      "outputs": []
    },
    {
      "cell_type": "code",
      "source": [
        "df.dtypes"
      ],
      "metadata": {
        "colab": {
          "base_uri": "https://localhost:8080/"
        },
        "id": "JfRPJZEnjDxM",
        "outputId": "f18f9fdf-65d3-4868-dde1-811448c221a1"
      },
      "execution_count": 18,
      "outputs": [
        {
          "output_type": "execute_result",
          "data": {
            "text/plain": [
              "company                 object\n",
              "education               object\n",
              "experience              object\n",
              "industry                object\n",
              "jobdescription          object\n",
              "jobid                    int64\n",
              "joblocation_address     object\n",
              "jobtitle                object\n",
              "numberofpositions      float64\n",
              "payrate                 object\n",
              "postdate                object\n",
              "site_name               object\n",
              "skills                  object\n",
              "uniq_id                 object\n",
              "min_pay                float64\n",
              "max_pay                float64\n",
              "avg_pay                float64\n",
              "min_exp                float64\n",
              "max_exp                float64\n",
              "dtype: object"
            ]
          },
          "metadata": {},
          "execution_count": 18
        }
      ]
    },
    {
      "cell_type": "markdown",
      "source": [
        "## Cleaning the date feature\n",
        "\n",
        "---\n",
        "\n",
        "\n",
        "\n",
        "---\n",
        "\n"
      ],
      "metadata": {
        "id": "duoR71HknQn0"
      }
    },
    {
      "cell_type": "code",
      "source": [
        "# Converting the postdate datatype to datetime64\n",
        "df['postdate']=pd.to_datetime(df['postdate'])"
      ],
      "metadata": {
        "id": "1Qkz9PgRji5l"
      },
      "execution_count": 19,
      "outputs": []
    },
    {
      "cell_type": "code",
      "source": [
        "def fetch(x):\n",
        "  return([x.day,x.month,x.year])"
      ],
      "metadata": {
        "id": "bfBgxl8xnOte"
      },
      "execution_count": 20,
      "outputs": []
    },
    {
      "cell_type": "code",
      "source": [
        "date=pd.DataFrame(map(fetch,df['postdate'])).rename(columns={0:'day',1:'month',2:'year'}) # Converting it into a DataFrame\n",
        "date"
      ],
      "metadata": {
        "colab": {
          "base_uri": "https://localhost:8080/",
          "height": 424
        },
        "id": "znid6C7HsRmF",
        "outputId": "5e803f53-12ae-4381-c6a7-fa10eae3e84e"
      },
      "execution_count": 21,
      "outputs": [
        {
          "output_type": "execute_result",
          "data": {
            "text/plain": [
              "        day  month    year\n",
              "0      21.0    5.0  2016.0\n",
              "1      21.0    5.0  2016.0\n",
              "2      13.0   10.0  2016.0\n",
              "3      13.0   10.0  2016.0\n",
              "4      13.0   10.0  2016.0\n",
              "...     ...    ...     ...\n",
              "21995  25.0   11.0  2016.0\n",
              "21996  24.0   11.0  2016.0\n",
              "21997  25.0   11.0  2016.0\n",
              "21998  27.0   11.0  2016.0\n",
              "21999  25.0   11.0  2016.0\n",
              "\n",
              "[22000 rows x 3 columns]"
            ],
            "text/html": [
              "\n",
              "  <div id=\"df-5987445c-7fcf-40de-a4c9-f19d2ee421aa\">\n",
              "    <div class=\"colab-df-container\">\n",
              "      <div>\n",
              "<style scoped>\n",
              "    .dataframe tbody tr th:only-of-type {\n",
              "        vertical-align: middle;\n",
              "    }\n",
              "\n",
              "    .dataframe tbody tr th {\n",
              "        vertical-align: top;\n",
              "    }\n",
              "\n",
              "    .dataframe thead th {\n",
              "        text-align: right;\n",
              "    }\n",
              "</style>\n",
              "<table border=\"1\" class=\"dataframe\">\n",
              "  <thead>\n",
              "    <tr style=\"text-align: right;\">\n",
              "      <th></th>\n",
              "      <th>day</th>\n",
              "      <th>month</th>\n",
              "      <th>year</th>\n",
              "    </tr>\n",
              "  </thead>\n",
              "  <tbody>\n",
              "    <tr>\n",
              "      <th>0</th>\n",
              "      <td>21.0</td>\n",
              "      <td>5.0</td>\n",
              "      <td>2016.0</td>\n",
              "    </tr>\n",
              "    <tr>\n",
              "      <th>1</th>\n",
              "      <td>21.0</td>\n",
              "      <td>5.0</td>\n",
              "      <td>2016.0</td>\n",
              "    </tr>\n",
              "    <tr>\n",
              "      <th>2</th>\n",
              "      <td>13.0</td>\n",
              "      <td>10.0</td>\n",
              "      <td>2016.0</td>\n",
              "    </tr>\n",
              "    <tr>\n",
              "      <th>3</th>\n",
              "      <td>13.0</td>\n",
              "      <td>10.0</td>\n",
              "      <td>2016.0</td>\n",
              "    </tr>\n",
              "    <tr>\n",
              "      <th>4</th>\n",
              "      <td>13.0</td>\n",
              "      <td>10.0</td>\n",
              "      <td>2016.0</td>\n",
              "    </tr>\n",
              "    <tr>\n",
              "      <th>...</th>\n",
              "      <td>...</td>\n",
              "      <td>...</td>\n",
              "      <td>...</td>\n",
              "    </tr>\n",
              "    <tr>\n",
              "      <th>21995</th>\n",
              "      <td>25.0</td>\n",
              "      <td>11.0</td>\n",
              "      <td>2016.0</td>\n",
              "    </tr>\n",
              "    <tr>\n",
              "      <th>21996</th>\n",
              "      <td>24.0</td>\n",
              "      <td>11.0</td>\n",
              "      <td>2016.0</td>\n",
              "    </tr>\n",
              "    <tr>\n",
              "      <th>21997</th>\n",
              "      <td>25.0</td>\n",
              "      <td>11.0</td>\n",
              "      <td>2016.0</td>\n",
              "    </tr>\n",
              "    <tr>\n",
              "      <th>21998</th>\n",
              "      <td>27.0</td>\n",
              "      <td>11.0</td>\n",
              "      <td>2016.0</td>\n",
              "    </tr>\n",
              "    <tr>\n",
              "      <th>21999</th>\n",
              "      <td>25.0</td>\n",
              "      <td>11.0</td>\n",
              "      <td>2016.0</td>\n",
              "    </tr>\n",
              "  </tbody>\n",
              "</table>\n",
              "<p>22000 rows × 3 columns</p>\n",
              "</div>\n",
              "      <button class=\"colab-df-convert\" onclick=\"convertToInteractive('df-5987445c-7fcf-40de-a4c9-f19d2ee421aa')\"\n",
              "              title=\"Convert this dataframe to an interactive table.\"\n",
              "              style=\"display:none;\">\n",
              "        \n",
              "  <svg xmlns=\"http://www.w3.org/2000/svg\" height=\"24px\"viewBox=\"0 0 24 24\"\n",
              "       width=\"24px\">\n",
              "    <path d=\"M0 0h24v24H0V0z\" fill=\"none\"/>\n",
              "    <path d=\"M18.56 5.44l.94 2.06.94-2.06 2.06-.94-2.06-.94-.94-2.06-.94 2.06-2.06.94zm-11 1L8.5 8.5l.94-2.06 2.06-.94-2.06-.94L8.5 2.5l-.94 2.06-2.06.94zm10 10l.94 2.06.94-2.06 2.06-.94-2.06-.94-.94-2.06-.94 2.06-2.06.94z\"/><path d=\"M17.41 7.96l-1.37-1.37c-.4-.4-.92-.59-1.43-.59-.52 0-1.04.2-1.43.59L10.3 9.45l-7.72 7.72c-.78.78-.78 2.05 0 2.83L4 21.41c.39.39.9.59 1.41.59.51 0 1.02-.2 1.41-.59l7.78-7.78 2.81-2.81c.8-.78.8-2.07 0-2.86zM5.41 20L4 18.59l7.72-7.72 1.47 1.35L5.41 20z\"/>\n",
              "  </svg>\n",
              "      </button>\n",
              "      \n",
              "  <style>\n",
              "    .colab-df-container {\n",
              "      display:flex;\n",
              "      flex-wrap:wrap;\n",
              "      gap: 12px;\n",
              "    }\n",
              "\n",
              "    .colab-df-convert {\n",
              "      background-color: #E8F0FE;\n",
              "      border: none;\n",
              "      border-radius: 50%;\n",
              "      cursor: pointer;\n",
              "      display: none;\n",
              "      fill: #1967D2;\n",
              "      height: 32px;\n",
              "      padding: 0 0 0 0;\n",
              "      width: 32px;\n",
              "    }\n",
              "\n",
              "    .colab-df-convert:hover {\n",
              "      background-color: #E2EBFA;\n",
              "      box-shadow: 0px 1px 2px rgba(60, 64, 67, 0.3), 0px 1px 3px 1px rgba(60, 64, 67, 0.15);\n",
              "      fill: #174EA6;\n",
              "    }\n",
              "\n",
              "    [theme=dark] .colab-df-convert {\n",
              "      background-color: #3B4455;\n",
              "      fill: #D2E3FC;\n",
              "    }\n",
              "\n",
              "    [theme=dark] .colab-df-convert:hover {\n",
              "      background-color: #434B5C;\n",
              "      box-shadow: 0px 1px 3px 1px rgba(0, 0, 0, 0.15);\n",
              "      filter: drop-shadow(0px 1px 2px rgba(0, 0, 0, 0.3));\n",
              "      fill: #FFFFFF;\n",
              "    }\n",
              "  </style>\n",
              "\n",
              "      <script>\n",
              "        const buttonEl =\n",
              "          document.querySelector('#df-5987445c-7fcf-40de-a4c9-f19d2ee421aa button.colab-df-convert');\n",
              "        buttonEl.style.display =\n",
              "          google.colab.kernel.accessAllowed ? 'block' : 'none';\n",
              "\n",
              "        async function convertToInteractive(key) {\n",
              "          const element = document.querySelector('#df-5987445c-7fcf-40de-a4c9-f19d2ee421aa');\n",
              "          const dataTable =\n",
              "            await google.colab.kernel.invokeFunction('convertToInteractive',\n",
              "                                                     [key], {});\n",
              "          if (!dataTable) return;\n",
              "\n",
              "          const docLinkHtml = 'Like what you see? Visit the ' +\n",
              "            '<a target=\"_blank\" href=https://colab.research.google.com/notebooks/data_table.ipynb>data table notebook</a>'\n",
              "            + ' to learn more about interactive tables.';\n",
              "          element.innerHTML = '';\n",
              "          dataTable['output_type'] = 'display_data';\n",
              "          await google.colab.output.renderOutput(dataTable, element);\n",
              "          const docLink = document.createElement('div');\n",
              "          docLink.innerHTML = docLinkHtml;\n",
              "          element.appendChild(docLink);\n",
              "        }\n",
              "      </script>\n",
              "    </div>\n",
              "  </div>\n",
              "  "
            ]
          },
          "metadata": {},
          "execution_count": 21
        }
      ]
    },
    {
      "cell_type": "code",
      "source": [
        "df=pd.concat([df,date],axis=1) # Concating the Date with our main dataframe\n",
        "df.head(5)"
      ],
      "metadata": {
        "colab": {
          "base_uri": "https://localhost:8080/",
          "height": 647
        },
        "id": "3JXogGsVsSyz",
        "outputId": "cc58867c-b352-4743-cf8c-b28c2bfeaebb"
      },
      "execution_count": 22,
      "outputs": [
        {
          "output_type": "execute_result",
          "data": {
            "text/plain": [
              "                                      company  \\\n",
              "0                            MM Media Pvt Ltd   \n",
              "1                          find live infotech   \n",
              "2         Softtech Career Infosystem Pvt. Ltd   \n",
              "3                      Onboard HRServices LLP   \n",
              "4  Spire Technologies and Solutions Pvt. Ltd.   \n",
              "\n",
              "                                           education   experience  \\\n",
              "0  UG: B.Tech/B.E. - Any Specialization PG:Any Po...    0 - 1 yrs   \n",
              "1  UG: B.Tech/B.E. - Any Specialization PG:MBA/PG...    0 - 0 yrs   \n",
              "2  UG: Any Graduate - Any Specialization PG:Any P...    4 - 8 yrs   \n",
              "3  UG: Any Graduate - Any Specialization PG:CA Do...  11 - 15 yrs   \n",
              "4  UG: B.Tech/B.E. - Any Specialization PG:Any Po...    6 - 8 yrs   \n",
              "\n",
              "                                   industry  \\\n",
              "0          Media / Entertainment / Internet   \n",
              "1  Advertising / PR / MR / Event Management   \n",
              "2           IT-Software / Software Services   \n",
              "3    Banking / Financial Services / Broking   \n",
              "4           IT-Software / Software Services   \n",
              "\n",
              "                                      jobdescription         jobid  \\\n",
              "0  Job Description   Send me Jobs like this Quali...  210516002263   \n",
              "1  Job Description   Send me Jobs like this Quali...  210516002391   \n",
              "2  Job Description   Send me Jobs like this - as ...  101016900534   \n",
              "3  Job Description   Send me Jobs like this - Inv...   81016900536   \n",
              "4  Job Description   Send me Jobs like this Pleas...  120916002122   \n",
              "\n",
              "                                 joblocation_address  \\\n",
              "0                                            Chennai   \n",
              "1                                            Chennai   \n",
              "2                                          Bengaluru   \n",
              "3  Mumbai, Bengaluru, Kolkata, Chennai, Coimbator...   \n",
              "4                                          Bengaluru   \n",
              "\n",
              "                                   jobtitle  numberofpositions  \\\n",
              "0  Walkin Data Entry Operator (night Shift)                NaN   \n",
              "1        Work Based Onhome Based Part Time.               60.0   \n",
              "2                    Pl/sql Developer - SQL                NaN   \n",
              "3    Manager/ad/partner - Indirect Tax - CA                NaN   \n",
              "4           JAVA Technical Lead (6-8 yrs) -                4.0   \n",
              "\n",
              "                          payrate  ...                                 skills  \\\n",
              "0         1,50,000 - 2,25,000 P.A  ...                                   ITES   \n",
              "1  1,50,000 - 2,50,000 P.A. 20000  ...                              Marketing   \n",
              "2      Not Disclosed by Recruiter  ...  IT Software - Application Programming   \n",
              "3      Not Disclosed by Recruiter  ...                               Accounts   \n",
              "4      Not Disclosed by Recruiter  ...  IT Software - Application Programming   \n",
              "\n",
              "                            uniq_id   min_pay   max_pay   avg_pay  min_exp  \\\n",
              "0  43b19632647068535437c774b6ca6cf8  150000.0  225000.0  187500.0      0.0   \n",
              "1  d4c72325e57f89f364812b5ed5a795f0  150000.0  250000.0  200000.0      0.0   \n",
              "2  c47df6f4cfdf5b46f1fd713ba61b9eba       NaN       NaN       NaN      4.0   \n",
              "3  115d28f140f694dd1cc61c53d03c66ae       NaN       NaN       NaN     11.0   \n",
              "4  a12553fc03bc7bcced8b1bb8963f97b4       NaN       NaN       NaN      6.0   \n",
              "\n",
              "   max_exp   day  month    year  \n",
              "0      1.0  21.0    5.0  2016.0  \n",
              "1      0.0  21.0    5.0  2016.0  \n",
              "2      8.0  13.0   10.0  2016.0  \n",
              "3     15.0  13.0   10.0  2016.0  \n",
              "4      8.0  13.0   10.0  2016.0  \n",
              "\n",
              "[5 rows x 22 columns]"
            ],
            "text/html": [
              "\n",
              "  <div id=\"df-ee7185ad-a0b9-4a22-9c24-d3f5ac779021\">\n",
              "    <div class=\"colab-df-container\">\n",
              "      <div>\n",
              "<style scoped>\n",
              "    .dataframe tbody tr th:only-of-type {\n",
              "        vertical-align: middle;\n",
              "    }\n",
              "\n",
              "    .dataframe tbody tr th {\n",
              "        vertical-align: top;\n",
              "    }\n",
              "\n",
              "    .dataframe thead th {\n",
              "        text-align: right;\n",
              "    }\n",
              "</style>\n",
              "<table border=\"1\" class=\"dataframe\">\n",
              "  <thead>\n",
              "    <tr style=\"text-align: right;\">\n",
              "      <th></th>\n",
              "      <th>company</th>\n",
              "      <th>education</th>\n",
              "      <th>experience</th>\n",
              "      <th>industry</th>\n",
              "      <th>jobdescription</th>\n",
              "      <th>jobid</th>\n",
              "      <th>joblocation_address</th>\n",
              "      <th>jobtitle</th>\n",
              "      <th>numberofpositions</th>\n",
              "      <th>payrate</th>\n",
              "      <th>...</th>\n",
              "      <th>skills</th>\n",
              "      <th>uniq_id</th>\n",
              "      <th>min_pay</th>\n",
              "      <th>max_pay</th>\n",
              "      <th>avg_pay</th>\n",
              "      <th>min_exp</th>\n",
              "      <th>max_exp</th>\n",
              "      <th>day</th>\n",
              "      <th>month</th>\n",
              "      <th>year</th>\n",
              "    </tr>\n",
              "  </thead>\n",
              "  <tbody>\n",
              "    <tr>\n",
              "      <th>0</th>\n",
              "      <td>MM Media Pvt Ltd</td>\n",
              "      <td>UG: B.Tech/B.E. - Any Specialization PG:Any Po...</td>\n",
              "      <td>0 - 1 yrs</td>\n",
              "      <td>Media / Entertainment / Internet</td>\n",
              "      <td>Job Description   Send me Jobs like this Quali...</td>\n",
              "      <td>210516002263</td>\n",
              "      <td>Chennai</td>\n",
              "      <td>Walkin Data Entry Operator (night Shift)</td>\n",
              "      <td>NaN</td>\n",
              "      <td>1,50,000 - 2,25,000 P.A</td>\n",
              "      <td>...</td>\n",
              "      <td>ITES</td>\n",
              "      <td>43b19632647068535437c774b6ca6cf8</td>\n",
              "      <td>150000.0</td>\n",
              "      <td>225000.0</td>\n",
              "      <td>187500.0</td>\n",
              "      <td>0.0</td>\n",
              "      <td>1.0</td>\n",
              "      <td>21.0</td>\n",
              "      <td>5.0</td>\n",
              "      <td>2016.0</td>\n",
              "    </tr>\n",
              "    <tr>\n",
              "      <th>1</th>\n",
              "      <td>find live infotech</td>\n",
              "      <td>UG: B.Tech/B.E. - Any Specialization PG:MBA/PG...</td>\n",
              "      <td>0 - 0 yrs</td>\n",
              "      <td>Advertising / PR / MR / Event Management</td>\n",
              "      <td>Job Description   Send me Jobs like this Quali...</td>\n",
              "      <td>210516002391</td>\n",
              "      <td>Chennai</td>\n",
              "      <td>Work Based Onhome Based Part Time.</td>\n",
              "      <td>60.0</td>\n",
              "      <td>1,50,000 - 2,50,000 P.A. 20000</td>\n",
              "      <td>...</td>\n",
              "      <td>Marketing</td>\n",
              "      <td>d4c72325e57f89f364812b5ed5a795f0</td>\n",
              "      <td>150000.0</td>\n",
              "      <td>250000.0</td>\n",
              "      <td>200000.0</td>\n",
              "      <td>0.0</td>\n",
              "      <td>0.0</td>\n",
              "      <td>21.0</td>\n",
              "      <td>5.0</td>\n",
              "      <td>2016.0</td>\n",
              "    </tr>\n",
              "    <tr>\n",
              "      <th>2</th>\n",
              "      <td>Softtech Career Infosystem Pvt. Ltd</td>\n",
              "      <td>UG: Any Graduate - Any Specialization PG:Any P...</td>\n",
              "      <td>4 - 8 yrs</td>\n",
              "      <td>IT-Software / Software Services</td>\n",
              "      <td>Job Description   Send me Jobs like this - as ...</td>\n",
              "      <td>101016900534</td>\n",
              "      <td>Bengaluru</td>\n",
              "      <td>Pl/sql Developer - SQL</td>\n",
              "      <td>NaN</td>\n",
              "      <td>Not Disclosed by Recruiter</td>\n",
              "      <td>...</td>\n",
              "      <td>IT Software - Application Programming</td>\n",
              "      <td>c47df6f4cfdf5b46f1fd713ba61b9eba</td>\n",
              "      <td>NaN</td>\n",
              "      <td>NaN</td>\n",
              "      <td>NaN</td>\n",
              "      <td>4.0</td>\n",
              "      <td>8.0</td>\n",
              "      <td>13.0</td>\n",
              "      <td>10.0</td>\n",
              "      <td>2016.0</td>\n",
              "    </tr>\n",
              "    <tr>\n",
              "      <th>3</th>\n",
              "      <td>Onboard HRServices LLP</td>\n",
              "      <td>UG: Any Graduate - Any Specialization PG:CA Do...</td>\n",
              "      <td>11 - 15 yrs</td>\n",
              "      <td>Banking / Financial Services / Broking</td>\n",
              "      <td>Job Description   Send me Jobs like this - Inv...</td>\n",
              "      <td>81016900536</td>\n",
              "      <td>Mumbai, Bengaluru, Kolkata, Chennai, Coimbator...</td>\n",
              "      <td>Manager/ad/partner - Indirect Tax - CA</td>\n",
              "      <td>NaN</td>\n",
              "      <td>Not Disclosed by Recruiter</td>\n",
              "      <td>...</td>\n",
              "      <td>Accounts</td>\n",
              "      <td>115d28f140f694dd1cc61c53d03c66ae</td>\n",
              "      <td>NaN</td>\n",
              "      <td>NaN</td>\n",
              "      <td>NaN</td>\n",
              "      <td>11.0</td>\n",
              "      <td>15.0</td>\n",
              "      <td>13.0</td>\n",
              "      <td>10.0</td>\n",
              "      <td>2016.0</td>\n",
              "    </tr>\n",
              "    <tr>\n",
              "      <th>4</th>\n",
              "      <td>Spire Technologies and Solutions Pvt. Ltd.</td>\n",
              "      <td>UG: B.Tech/B.E. - Any Specialization PG:Any Po...</td>\n",
              "      <td>6 - 8 yrs</td>\n",
              "      <td>IT-Software / Software Services</td>\n",
              "      <td>Job Description   Send me Jobs like this Pleas...</td>\n",
              "      <td>120916002122</td>\n",
              "      <td>Bengaluru</td>\n",
              "      <td>JAVA Technical Lead (6-8 yrs) -</td>\n",
              "      <td>4.0</td>\n",
              "      <td>Not Disclosed by Recruiter</td>\n",
              "      <td>...</td>\n",
              "      <td>IT Software - Application Programming</td>\n",
              "      <td>a12553fc03bc7bcced8b1bb8963f97b4</td>\n",
              "      <td>NaN</td>\n",
              "      <td>NaN</td>\n",
              "      <td>NaN</td>\n",
              "      <td>6.0</td>\n",
              "      <td>8.0</td>\n",
              "      <td>13.0</td>\n",
              "      <td>10.0</td>\n",
              "      <td>2016.0</td>\n",
              "    </tr>\n",
              "  </tbody>\n",
              "</table>\n",
              "<p>5 rows × 22 columns</p>\n",
              "</div>\n",
              "      <button class=\"colab-df-convert\" onclick=\"convertToInteractive('df-ee7185ad-a0b9-4a22-9c24-d3f5ac779021')\"\n",
              "              title=\"Convert this dataframe to an interactive table.\"\n",
              "              style=\"display:none;\">\n",
              "        \n",
              "  <svg xmlns=\"http://www.w3.org/2000/svg\" height=\"24px\"viewBox=\"0 0 24 24\"\n",
              "       width=\"24px\">\n",
              "    <path d=\"M0 0h24v24H0V0z\" fill=\"none\"/>\n",
              "    <path d=\"M18.56 5.44l.94 2.06.94-2.06 2.06-.94-2.06-.94-.94-2.06-.94 2.06-2.06.94zm-11 1L8.5 8.5l.94-2.06 2.06-.94-2.06-.94L8.5 2.5l-.94 2.06-2.06.94zm10 10l.94 2.06.94-2.06 2.06-.94-2.06-.94-.94-2.06-.94 2.06-2.06.94z\"/><path d=\"M17.41 7.96l-1.37-1.37c-.4-.4-.92-.59-1.43-.59-.52 0-1.04.2-1.43.59L10.3 9.45l-7.72 7.72c-.78.78-.78 2.05 0 2.83L4 21.41c.39.39.9.59 1.41.59.51 0 1.02-.2 1.41-.59l7.78-7.78 2.81-2.81c.8-.78.8-2.07 0-2.86zM5.41 20L4 18.59l7.72-7.72 1.47 1.35L5.41 20z\"/>\n",
              "  </svg>\n",
              "      </button>\n",
              "      \n",
              "  <style>\n",
              "    .colab-df-container {\n",
              "      display:flex;\n",
              "      flex-wrap:wrap;\n",
              "      gap: 12px;\n",
              "    }\n",
              "\n",
              "    .colab-df-convert {\n",
              "      background-color: #E8F0FE;\n",
              "      border: none;\n",
              "      border-radius: 50%;\n",
              "      cursor: pointer;\n",
              "      display: none;\n",
              "      fill: #1967D2;\n",
              "      height: 32px;\n",
              "      padding: 0 0 0 0;\n",
              "      width: 32px;\n",
              "    }\n",
              "\n",
              "    .colab-df-convert:hover {\n",
              "      background-color: #E2EBFA;\n",
              "      box-shadow: 0px 1px 2px rgba(60, 64, 67, 0.3), 0px 1px 3px 1px rgba(60, 64, 67, 0.15);\n",
              "      fill: #174EA6;\n",
              "    }\n",
              "\n",
              "    [theme=dark] .colab-df-convert {\n",
              "      background-color: #3B4455;\n",
              "      fill: #D2E3FC;\n",
              "    }\n",
              "\n",
              "    [theme=dark] .colab-df-convert:hover {\n",
              "      background-color: #434B5C;\n",
              "      box-shadow: 0px 1px 3px 1px rgba(0, 0, 0, 0.15);\n",
              "      filter: drop-shadow(0px 1px 2px rgba(0, 0, 0, 0.3));\n",
              "      fill: #FFFFFF;\n",
              "    }\n",
              "  </style>\n",
              "\n",
              "      <script>\n",
              "        const buttonEl =\n",
              "          document.querySelector('#df-ee7185ad-a0b9-4a22-9c24-d3f5ac779021 button.colab-df-convert');\n",
              "        buttonEl.style.display =\n",
              "          google.colab.kernel.accessAllowed ? 'block' : 'none';\n",
              "\n",
              "        async function convertToInteractive(key) {\n",
              "          const element = document.querySelector('#df-ee7185ad-a0b9-4a22-9c24-d3f5ac779021');\n",
              "          const dataTable =\n",
              "            await google.colab.kernel.invokeFunction('convertToInteractive',\n",
              "                                                     [key], {});\n",
              "          if (!dataTable) return;\n",
              "\n",
              "          const docLinkHtml = 'Like what you see? Visit the ' +\n",
              "            '<a target=\"_blank\" href=https://colab.research.google.com/notebooks/data_table.ipynb>data table notebook</a>'\n",
              "            + ' to learn more about interactive tables.';\n",
              "          element.innerHTML = '';\n",
              "          dataTable['output_type'] = 'display_data';\n",
              "          await google.colab.output.renderOutput(dataTable, element);\n",
              "          const docLink = document.createElement('div');\n",
              "          docLink.innerHTML = docLinkHtml;\n",
              "          element.appendChild(docLink);\n",
              "        }\n",
              "      </script>\n",
              "    </div>\n",
              "  </div>\n",
              "  "
            ]
          },
          "metadata": {},
          "execution_count": 22
        }
      ]
    },
    {
      "cell_type": "markdown",
      "source": [
        "## deleting the unnecessary columns\n",
        "\n",
        "---\n",
        "\n",
        "\n",
        "\n",
        "\n"
      ],
      "metadata": {
        "id": "ge7BccZOy118"
      }
    },
    {
      "cell_type": "code",
      "source": [
        "def drop(col):   # Creating a function to delete Columns\n",
        "  df.drop(col,axis=1,inplace=True)"
      ],
      "metadata": {
        "id": "3q1xV8Lvv4eq"
      },
      "execution_count": 23,
      "outputs": []
    },
    {
      "cell_type": "code",
      "source": [
        "df.columns\n"
      ],
      "metadata": {
        "colab": {
          "base_uri": "https://localhost:8080/"
        },
        "id": "_5Zw3E6B10N7",
        "outputId": "0450f770-eee6-4639-f50d-8d95581828d9"
      },
      "execution_count": 24,
      "outputs": [
        {
          "output_type": "execute_result",
          "data": {
            "text/plain": [
              "Index(['company', 'education', 'experience', 'industry', 'jobdescription',\n",
              "       'jobid', 'joblocation_address', 'jobtitle', 'numberofpositions',\n",
              "       'payrate', 'postdate', 'site_name', 'skills', 'uniq_id', 'min_pay',\n",
              "       'max_pay', 'avg_pay', 'min_exp', 'max_exp', 'day', 'month', 'year'],\n",
              "      dtype='object')"
            ]
          },
          "metadata": {},
          "execution_count": 24
        }
      ]
    },
    {
      "cell_type": "code",
      "source": [
        "# Deleting All the unnecessary\n",
        "drop('payrate')\n",
        "drop('uniq_id')\n",
        "drop('postdate')\n",
        "drop('jobid')\n",
        "drop('experience')"
      ],
      "metadata": {
        "id": "m7z4IP5E11SR"
      },
      "execution_count": 25,
      "outputs": []
    },
    {
      "cell_type": "code",
      "source": [
        "df.head(5)"
      ],
      "metadata": {
        "colab": {
          "base_uri": "https://localhost:8080/",
          "height": 0
        },
        "id": "AI7kY6AF2U37",
        "outputId": "9410088a-9974-474f-8e6c-31c721159805"
      },
      "execution_count": 26,
      "outputs": [
        {
          "output_type": "execute_result",
          "data": {
            "text/plain": [
              "                                      company  \\\n",
              "0                            MM Media Pvt Ltd   \n",
              "1                          find live infotech   \n",
              "2         Softtech Career Infosystem Pvt. Ltd   \n",
              "3                      Onboard HRServices LLP   \n",
              "4  Spire Technologies and Solutions Pvt. Ltd.   \n",
              "\n",
              "                                           education  \\\n",
              "0  UG: B.Tech/B.E. - Any Specialization PG:Any Po...   \n",
              "1  UG: B.Tech/B.E. - Any Specialization PG:MBA/PG...   \n",
              "2  UG: Any Graduate - Any Specialization PG:Any P...   \n",
              "3  UG: Any Graduate - Any Specialization PG:CA Do...   \n",
              "4  UG: B.Tech/B.E. - Any Specialization PG:Any Po...   \n",
              "\n",
              "                                   industry  \\\n",
              "0          Media / Entertainment / Internet   \n",
              "1  Advertising / PR / MR / Event Management   \n",
              "2           IT-Software / Software Services   \n",
              "3    Banking / Financial Services / Broking   \n",
              "4           IT-Software / Software Services   \n",
              "\n",
              "                                      jobdescription  \\\n",
              "0  Job Description   Send me Jobs like this Quali...   \n",
              "1  Job Description   Send me Jobs like this Quali...   \n",
              "2  Job Description   Send me Jobs like this - as ...   \n",
              "3  Job Description   Send me Jobs like this - Inv...   \n",
              "4  Job Description   Send me Jobs like this Pleas...   \n",
              "\n",
              "                                 joblocation_address  \\\n",
              "0                                            Chennai   \n",
              "1                                            Chennai   \n",
              "2                                          Bengaluru   \n",
              "3  Mumbai, Bengaluru, Kolkata, Chennai, Coimbator...   \n",
              "4                                          Bengaluru   \n",
              "\n",
              "                                   jobtitle  numberofpositions site_name  \\\n",
              "0  Walkin Data Entry Operator (night Shift)                NaN       NaN   \n",
              "1        Work Based Onhome Based Part Time.               60.0       NaN   \n",
              "2                    Pl/sql Developer - SQL                NaN       NaN   \n",
              "3    Manager/ad/partner - Indirect Tax - CA                NaN       NaN   \n",
              "4           JAVA Technical Lead (6-8 yrs) -                4.0       NaN   \n",
              "\n",
              "                                  skills   min_pay   max_pay   avg_pay  \\\n",
              "0                                   ITES  150000.0  225000.0  187500.0   \n",
              "1                              Marketing  150000.0  250000.0  200000.0   \n",
              "2  IT Software - Application Programming       NaN       NaN       NaN   \n",
              "3                               Accounts       NaN       NaN       NaN   \n",
              "4  IT Software - Application Programming       NaN       NaN       NaN   \n",
              "\n",
              "   min_exp  max_exp   day  month    year  \n",
              "0      0.0      1.0  21.0    5.0  2016.0  \n",
              "1      0.0      0.0  21.0    5.0  2016.0  \n",
              "2      4.0      8.0  13.0   10.0  2016.0  \n",
              "3     11.0     15.0  13.0   10.0  2016.0  \n",
              "4      6.0      8.0  13.0   10.0  2016.0  "
            ],
            "text/html": [
              "\n",
              "  <div id=\"df-da44014f-020b-43e1-a8d1-fec22f6cb23a\">\n",
              "    <div class=\"colab-df-container\">\n",
              "      <div>\n",
              "<style scoped>\n",
              "    .dataframe tbody tr th:only-of-type {\n",
              "        vertical-align: middle;\n",
              "    }\n",
              "\n",
              "    .dataframe tbody tr th {\n",
              "        vertical-align: top;\n",
              "    }\n",
              "\n",
              "    .dataframe thead th {\n",
              "        text-align: right;\n",
              "    }\n",
              "</style>\n",
              "<table border=\"1\" class=\"dataframe\">\n",
              "  <thead>\n",
              "    <tr style=\"text-align: right;\">\n",
              "      <th></th>\n",
              "      <th>company</th>\n",
              "      <th>education</th>\n",
              "      <th>industry</th>\n",
              "      <th>jobdescription</th>\n",
              "      <th>joblocation_address</th>\n",
              "      <th>jobtitle</th>\n",
              "      <th>numberofpositions</th>\n",
              "      <th>site_name</th>\n",
              "      <th>skills</th>\n",
              "      <th>min_pay</th>\n",
              "      <th>max_pay</th>\n",
              "      <th>avg_pay</th>\n",
              "      <th>min_exp</th>\n",
              "      <th>max_exp</th>\n",
              "      <th>day</th>\n",
              "      <th>month</th>\n",
              "      <th>year</th>\n",
              "    </tr>\n",
              "  </thead>\n",
              "  <tbody>\n",
              "    <tr>\n",
              "      <th>0</th>\n",
              "      <td>MM Media Pvt Ltd</td>\n",
              "      <td>UG: B.Tech/B.E. - Any Specialization PG:Any Po...</td>\n",
              "      <td>Media / Entertainment / Internet</td>\n",
              "      <td>Job Description   Send me Jobs like this Quali...</td>\n",
              "      <td>Chennai</td>\n",
              "      <td>Walkin Data Entry Operator (night Shift)</td>\n",
              "      <td>NaN</td>\n",
              "      <td>NaN</td>\n",
              "      <td>ITES</td>\n",
              "      <td>150000.0</td>\n",
              "      <td>225000.0</td>\n",
              "      <td>187500.0</td>\n",
              "      <td>0.0</td>\n",
              "      <td>1.0</td>\n",
              "      <td>21.0</td>\n",
              "      <td>5.0</td>\n",
              "      <td>2016.0</td>\n",
              "    </tr>\n",
              "    <tr>\n",
              "      <th>1</th>\n",
              "      <td>find live infotech</td>\n",
              "      <td>UG: B.Tech/B.E. - Any Specialization PG:MBA/PG...</td>\n",
              "      <td>Advertising / PR / MR / Event Management</td>\n",
              "      <td>Job Description   Send me Jobs like this Quali...</td>\n",
              "      <td>Chennai</td>\n",
              "      <td>Work Based Onhome Based Part Time.</td>\n",
              "      <td>60.0</td>\n",
              "      <td>NaN</td>\n",
              "      <td>Marketing</td>\n",
              "      <td>150000.0</td>\n",
              "      <td>250000.0</td>\n",
              "      <td>200000.0</td>\n",
              "      <td>0.0</td>\n",
              "      <td>0.0</td>\n",
              "      <td>21.0</td>\n",
              "      <td>5.0</td>\n",
              "      <td>2016.0</td>\n",
              "    </tr>\n",
              "    <tr>\n",
              "      <th>2</th>\n",
              "      <td>Softtech Career Infosystem Pvt. Ltd</td>\n",
              "      <td>UG: Any Graduate - Any Specialization PG:Any P...</td>\n",
              "      <td>IT-Software / Software Services</td>\n",
              "      <td>Job Description   Send me Jobs like this - as ...</td>\n",
              "      <td>Bengaluru</td>\n",
              "      <td>Pl/sql Developer - SQL</td>\n",
              "      <td>NaN</td>\n",
              "      <td>NaN</td>\n",
              "      <td>IT Software - Application Programming</td>\n",
              "      <td>NaN</td>\n",
              "      <td>NaN</td>\n",
              "      <td>NaN</td>\n",
              "      <td>4.0</td>\n",
              "      <td>8.0</td>\n",
              "      <td>13.0</td>\n",
              "      <td>10.0</td>\n",
              "      <td>2016.0</td>\n",
              "    </tr>\n",
              "    <tr>\n",
              "      <th>3</th>\n",
              "      <td>Onboard HRServices LLP</td>\n",
              "      <td>UG: Any Graduate - Any Specialization PG:CA Do...</td>\n",
              "      <td>Banking / Financial Services / Broking</td>\n",
              "      <td>Job Description   Send me Jobs like this - Inv...</td>\n",
              "      <td>Mumbai, Bengaluru, Kolkata, Chennai, Coimbator...</td>\n",
              "      <td>Manager/ad/partner - Indirect Tax - CA</td>\n",
              "      <td>NaN</td>\n",
              "      <td>NaN</td>\n",
              "      <td>Accounts</td>\n",
              "      <td>NaN</td>\n",
              "      <td>NaN</td>\n",
              "      <td>NaN</td>\n",
              "      <td>11.0</td>\n",
              "      <td>15.0</td>\n",
              "      <td>13.0</td>\n",
              "      <td>10.0</td>\n",
              "      <td>2016.0</td>\n",
              "    </tr>\n",
              "    <tr>\n",
              "      <th>4</th>\n",
              "      <td>Spire Technologies and Solutions Pvt. Ltd.</td>\n",
              "      <td>UG: B.Tech/B.E. - Any Specialization PG:Any Po...</td>\n",
              "      <td>IT-Software / Software Services</td>\n",
              "      <td>Job Description   Send me Jobs like this Pleas...</td>\n",
              "      <td>Bengaluru</td>\n",
              "      <td>JAVA Technical Lead (6-8 yrs) -</td>\n",
              "      <td>4.0</td>\n",
              "      <td>NaN</td>\n",
              "      <td>IT Software - Application Programming</td>\n",
              "      <td>NaN</td>\n",
              "      <td>NaN</td>\n",
              "      <td>NaN</td>\n",
              "      <td>6.0</td>\n",
              "      <td>8.0</td>\n",
              "      <td>13.0</td>\n",
              "      <td>10.0</td>\n",
              "      <td>2016.0</td>\n",
              "    </tr>\n",
              "  </tbody>\n",
              "</table>\n",
              "</div>\n",
              "      <button class=\"colab-df-convert\" onclick=\"convertToInteractive('df-da44014f-020b-43e1-a8d1-fec22f6cb23a')\"\n",
              "              title=\"Convert this dataframe to an interactive table.\"\n",
              "              style=\"display:none;\">\n",
              "        \n",
              "  <svg xmlns=\"http://www.w3.org/2000/svg\" height=\"24px\"viewBox=\"0 0 24 24\"\n",
              "       width=\"24px\">\n",
              "    <path d=\"M0 0h24v24H0V0z\" fill=\"none\"/>\n",
              "    <path d=\"M18.56 5.44l.94 2.06.94-2.06 2.06-.94-2.06-.94-.94-2.06-.94 2.06-2.06.94zm-11 1L8.5 8.5l.94-2.06 2.06-.94-2.06-.94L8.5 2.5l-.94 2.06-2.06.94zm10 10l.94 2.06.94-2.06 2.06-.94-2.06-.94-.94-2.06-.94 2.06-2.06.94z\"/><path d=\"M17.41 7.96l-1.37-1.37c-.4-.4-.92-.59-1.43-.59-.52 0-1.04.2-1.43.59L10.3 9.45l-7.72 7.72c-.78.78-.78 2.05 0 2.83L4 21.41c.39.39.9.59 1.41.59.51 0 1.02-.2 1.41-.59l7.78-7.78 2.81-2.81c.8-.78.8-2.07 0-2.86zM5.41 20L4 18.59l7.72-7.72 1.47 1.35L5.41 20z\"/>\n",
              "  </svg>\n",
              "      </button>\n",
              "      \n",
              "  <style>\n",
              "    .colab-df-container {\n",
              "      display:flex;\n",
              "      flex-wrap:wrap;\n",
              "      gap: 12px;\n",
              "    }\n",
              "\n",
              "    .colab-df-convert {\n",
              "      background-color: #E8F0FE;\n",
              "      border: none;\n",
              "      border-radius: 50%;\n",
              "      cursor: pointer;\n",
              "      display: none;\n",
              "      fill: #1967D2;\n",
              "      height: 32px;\n",
              "      padding: 0 0 0 0;\n",
              "      width: 32px;\n",
              "    }\n",
              "\n",
              "    .colab-df-convert:hover {\n",
              "      background-color: #E2EBFA;\n",
              "      box-shadow: 0px 1px 2px rgba(60, 64, 67, 0.3), 0px 1px 3px 1px rgba(60, 64, 67, 0.15);\n",
              "      fill: #174EA6;\n",
              "    }\n",
              "\n",
              "    [theme=dark] .colab-df-convert {\n",
              "      background-color: #3B4455;\n",
              "      fill: #D2E3FC;\n",
              "    }\n",
              "\n",
              "    [theme=dark] .colab-df-convert:hover {\n",
              "      background-color: #434B5C;\n",
              "      box-shadow: 0px 1px 3px 1px rgba(0, 0, 0, 0.15);\n",
              "      filter: drop-shadow(0px 1px 2px rgba(0, 0, 0, 0.3));\n",
              "      fill: #FFFFFF;\n",
              "    }\n",
              "  </style>\n",
              "\n",
              "      <script>\n",
              "        const buttonEl =\n",
              "          document.querySelector('#df-da44014f-020b-43e1-a8d1-fec22f6cb23a button.colab-df-convert');\n",
              "        buttonEl.style.display =\n",
              "          google.colab.kernel.accessAllowed ? 'block' : 'none';\n",
              "\n",
              "        async function convertToInteractive(key) {\n",
              "          const element = document.querySelector('#df-da44014f-020b-43e1-a8d1-fec22f6cb23a');\n",
              "          const dataTable =\n",
              "            await google.colab.kernel.invokeFunction('convertToInteractive',\n",
              "                                                     [key], {});\n",
              "          if (!dataTable) return;\n",
              "\n",
              "          const docLinkHtml = 'Like what you see? Visit the ' +\n",
              "            '<a target=\"_blank\" href=https://colab.research.google.com/notebooks/data_table.ipynb>data table notebook</a>'\n",
              "            + ' to learn more about interactive tables.';\n",
              "          element.innerHTML = '';\n",
              "          dataTable['output_type'] = 'display_data';\n",
              "          await google.colab.output.renderOutput(dataTable, element);\n",
              "          const docLink = document.createElement('div');\n",
              "          docLink.innerHTML = docLinkHtml;\n",
              "          element.appendChild(docLink);\n",
              "        }\n",
              "      </script>\n",
              "    </div>\n",
              "  </div>\n",
              "  "
            ]
          },
          "metadata": {},
          "execution_count": 26
        }
      ]
    },
    {
      "cell_type": "markdown",
      "source": [
        "## Performing the descriptive analysis\n",
        "\n",
        "---\n",
        "\n",
        "\n",
        "\n",
        "\n"
      ],
      "metadata": {
        "id": "aLb6F4Mp8I_T"
      }
    },
    {
      "cell_type": "code",
      "source": [
        "df.describe().T # decriptive statistics of Numerical Data"
      ],
      "metadata": {
        "colab": {
          "base_uri": "https://localhost:8080/",
          "height": 332
        },
        "id": "r8tEQMn62Wkp",
        "outputId": "37390f91-5186-4ab5-d998-35ff6d732f59"
      },
      "execution_count": 27,
      "outputs": [
        {
          "output_type": "execute_result",
          "data": {
            "text/plain": [
              "                     count           mean            std     min       25%  \\\n",
              "numberofpositions   4464.0      45.116935     186.197193     1.0       2.0   \n",
              "min_pay             4679.0  450353.288737  561228.358108     8.0  150000.0   \n",
              "max_pay             4940.0  734296.389879  755978.023020     1.0  300000.0   \n",
              "avg_pay             4641.0  614848.642426  644207.322793     9.0  250000.0   \n",
              "min_exp            21884.0       3.600987       3.100532     0.0       2.0   \n",
              "max_exp            21884.0       7.117803       3.923900     0.0       5.0   \n",
              "day                21977.0      18.849934       9.751744     1.0       9.0   \n",
              "month              21977.0       7.224189       4.062145     1.0       3.0   \n",
              "year               21977.0    2015.750648       0.450577  2015.0    2015.0   \n",
              "\n",
              "                        50%       75%        max  \n",
              "numberofpositions       4.0      10.0     2000.0  \n",
              "min_pay            250000.0  500000.0  5500000.0  \n",
              "max_pay            500000.0  900000.0  8000000.0  \n",
              "avg_pay            375000.0  750000.0  6500000.0  \n",
              "min_exp                 3.0       5.0       26.0  \n",
              "max_exp                 7.0       9.0       30.0  \n",
              "day                    22.0      29.0       31.0  \n",
              "month                   8.0      11.0       12.0  \n",
              "year                 2016.0    2016.0     2017.0  "
            ],
            "text/html": [
              "\n",
              "  <div id=\"df-d6658a3f-a836-4385-bf03-bbbd173aa9f6\">\n",
              "    <div class=\"colab-df-container\">\n",
              "      <div>\n",
              "<style scoped>\n",
              "    .dataframe tbody tr th:only-of-type {\n",
              "        vertical-align: middle;\n",
              "    }\n",
              "\n",
              "    .dataframe tbody tr th {\n",
              "        vertical-align: top;\n",
              "    }\n",
              "\n",
              "    .dataframe thead th {\n",
              "        text-align: right;\n",
              "    }\n",
              "</style>\n",
              "<table border=\"1\" class=\"dataframe\">\n",
              "  <thead>\n",
              "    <tr style=\"text-align: right;\">\n",
              "      <th></th>\n",
              "      <th>count</th>\n",
              "      <th>mean</th>\n",
              "      <th>std</th>\n",
              "      <th>min</th>\n",
              "      <th>25%</th>\n",
              "      <th>50%</th>\n",
              "      <th>75%</th>\n",
              "      <th>max</th>\n",
              "    </tr>\n",
              "  </thead>\n",
              "  <tbody>\n",
              "    <tr>\n",
              "      <th>numberofpositions</th>\n",
              "      <td>4464.0</td>\n",
              "      <td>45.116935</td>\n",
              "      <td>186.197193</td>\n",
              "      <td>1.0</td>\n",
              "      <td>2.0</td>\n",
              "      <td>4.0</td>\n",
              "      <td>10.0</td>\n",
              "      <td>2000.0</td>\n",
              "    </tr>\n",
              "    <tr>\n",
              "      <th>min_pay</th>\n",
              "      <td>4679.0</td>\n",
              "      <td>450353.288737</td>\n",
              "      <td>561228.358108</td>\n",
              "      <td>8.0</td>\n",
              "      <td>150000.0</td>\n",
              "      <td>250000.0</td>\n",
              "      <td>500000.0</td>\n",
              "      <td>5500000.0</td>\n",
              "    </tr>\n",
              "    <tr>\n",
              "      <th>max_pay</th>\n",
              "      <td>4940.0</td>\n",
              "      <td>734296.389879</td>\n",
              "      <td>755978.023020</td>\n",
              "      <td>1.0</td>\n",
              "      <td>300000.0</td>\n",
              "      <td>500000.0</td>\n",
              "      <td>900000.0</td>\n",
              "      <td>8000000.0</td>\n",
              "    </tr>\n",
              "    <tr>\n",
              "      <th>avg_pay</th>\n",
              "      <td>4641.0</td>\n",
              "      <td>614848.642426</td>\n",
              "      <td>644207.322793</td>\n",
              "      <td>9.0</td>\n",
              "      <td>250000.0</td>\n",
              "      <td>375000.0</td>\n",
              "      <td>750000.0</td>\n",
              "      <td>6500000.0</td>\n",
              "    </tr>\n",
              "    <tr>\n",
              "      <th>min_exp</th>\n",
              "      <td>21884.0</td>\n",
              "      <td>3.600987</td>\n",
              "      <td>3.100532</td>\n",
              "      <td>0.0</td>\n",
              "      <td>2.0</td>\n",
              "      <td>3.0</td>\n",
              "      <td>5.0</td>\n",
              "      <td>26.0</td>\n",
              "    </tr>\n",
              "    <tr>\n",
              "      <th>max_exp</th>\n",
              "      <td>21884.0</td>\n",
              "      <td>7.117803</td>\n",
              "      <td>3.923900</td>\n",
              "      <td>0.0</td>\n",
              "      <td>5.0</td>\n",
              "      <td>7.0</td>\n",
              "      <td>9.0</td>\n",
              "      <td>30.0</td>\n",
              "    </tr>\n",
              "    <tr>\n",
              "      <th>day</th>\n",
              "      <td>21977.0</td>\n",
              "      <td>18.849934</td>\n",
              "      <td>9.751744</td>\n",
              "      <td>1.0</td>\n",
              "      <td>9.0</td>\n",
              "      <td>22.0</td>\n",
              "      <td>29.0</td>\n",
              "      <td>31.0</td>\n",
              "    </tr>\n",
              "    <tr>\n",
              "      <th>month</th>\n",
              "      <td>21977.0</td>\n",
              "      <td>7.224189</td>\n",
              "      <td>4.062145</td>\n",
              "      <td>1.0</td>\n",
              "      <td>3.0</td>\n",
              "      <td>8.0</td>\n",
              "      <td>11.0</td>\n",
              "      <td>12.0</td>\n",
              "    </tr>\n",
              "    <tr>\n",
              "      <th>year</th>\n",
              "      <td>21977.0</td>\n",
              "      <td>2015.750648</td>\n",
              "      <td>0.450577</td>\n",
              "      <td>2015.0</td>\n",
              "      <td>2015.0</td>\n",
              "      <td>2016.0</td>\n",
              "      <td>2016.0</td>\n",
              "      <td>2017.0</td>\n",
              "    </tr>\n",
              "  </tbody>\n",
              "</table>\n",
              "</div>\n",
              "      <button class=\"colab-df-convert\" onclick=\"convertToInteractive('df-d6658a3f-a836-4385-bf03-bbbd173aa9f6')\"\n",
              "              title=\"Convert this dataframe to an interactive table.\"\n",
              "              style=\"display:none;\">\n",
              "        \n",
              "  <svg xmlns=\"http://www.w3.org/2000/svg\" height=\"24px\"viewBox=\"0 0 24 24\"\n",
              "       width=\"24px\">\n",
              "    <path d=\"M0 0h24v24H0V0z\" fill=\"none\"/>\n",
              "    <path d=\"M18.56 5.44l.94 2.06.94-2.06 2.06-.94-2.06-.94-.94-2.06-.94 2.06-2.06.94zm-11 1L8.5 8.5l.94-2.06 2.06-.94-2.06-.94L8.5 2.5l-.94 2.06-2.06.94zm10 10l.94 2.06.94-2.06 2.06-.94-2.06-.94-.94-2.06-.94 2.06-2.06.94z\"/><path d=\"M17.41 7.96l-1.37-1.37c-.4-.4-.92-.59-1.43-.59-.52 0-1.04.2-1.43.59L10.3 9.45l-7.72 7.72c-.78.78-.78 2.05 0 2.83L4 21.41c.39.39.9.59 1.41.59.51 0 1.02-.2 1.41-.59l7.78-7.78 2.81-2.81c.8-.78.8-2.07 0-2.86zM5.41 20L4 18.59l7.72-7.72 1.47 1.35L5.41 20z\"/>\n",
              "  </svg>\n",
              "      </button>\n",
              "      \n",
              "  <style>\n",
              "    .colab-df-container {\n",
              "      display:flex;\n",
              "      flex-wrap:wrap;\n",
              "      gap: 12px;\n",
              "    }\n",
              "\n",
              "    .colab-df-convert {\n",
              "      background-color: #E8F0FE;\n",
              "      border: none;\n",
              "      border-radius: 50%;\n",
              "      cursor: pointer;\n",
              "      display: none;\n",
              "      fill: #1967D2;\n",
              "      height: 32px;\n",
              "      padding: 0 0 0 0;\n",
              "      width: 32px;\n",
              "    }\n",
              "\n",
              "    .colab-df-convert:hover {\n",
              "      background-color: #E2EBFA;\n",
              "      box-shadow: 0px 1px 2px rgba(60, 64, 67, 0.3), 0px 1px 3px 1px rgba(60, 64, 67, 0.15);\n",
              "      fill: #174EA6;\n",
              "    }\n",
              "\n",
              "    [theme=dark] .colab-df-convert {\n",
              "      background-color: #3B4455;\n",
              "      fill: #D2E3FC;\n",
              "    }\n",
              "\n",
              "    [theme=dark] .colab-df-convert:hover {\n",
              "      background-color: #434B5C;\n",
              "      box-shadow: 0px 1px 3px 1px rgba(0, 0, 0, 0.15);\n",
              "      filter: drop-shadow(0px 1px 2px rgba(0, 0, 0, 0.3));\n",
              "      fill: #FFFFFF;\n",
              "    }\n",
              "  </style>\n",
              "\n",
              "      <script>\n",
              "        const buttonEl =\n",
              "          document.querySelector('#df-d6658a3f-a836-4385-bf03-bbbd173aa9f6 button.colab-df-convert');\n",
              "        buttonEl.style.display =\n",
              "          google.colab.kernel.accessAllowed ? 'block' : 'none';\n",
              "\n",
              "        async function convertToInteractive(key) {\n",
              "          const element = document.querySelector('#df-d6658a3f-a836-4385-bf03-bbbd173aa9f6');\n",
              "          const dataTable =\n",
              "            await google.colab.kernel.invokeFunction('convertToInteractive',\n",
              "                                                     [key], {});\n",
              "          if (!dataTable) return;\n",
              "\n",
              "          const docLinkHtml = 'Like what you see? Visit the ' +\n",
              "            '<a target=\"_blank\" href=https://colab.research.google.com/notebooks/data_table.ipynb>data table notebook</a>'\n",
              "            + ' to learn more about interactive tables.';\n",
              "          element.innerHTML = '';\n",
              "          dataTable['output_type'] = 'display_data';\n",
              "          await google.colab.output.renderOutput(dataTable, element);\n",
              "          const docLink = document.createElement('div');\n",
              "          docLink.innerHTML = docLinkHtml;\n",
              "          element.appendChild(docLink);\n",
              "        }\n",
              "      </script>\n",
              "    </div>\n",
              "  </div>\n",
              "  "
            ]
          },
          "metadata": {},
          "execution_count": 27
        }
      ]
    },
    {
      "cell_type": "code",
      "source": [
        "df.describe(include=['O']).T   # decriptive statistics of Categorical Data"
      ],
      "metadata": {
        "colab": {
          "base_uri": "https://localhost:8080/",
          "height": 300
        },
        "id": "UvBKRLca4rKx",
        "outputId": "996e9757-955b-4e4e-bf25-445e5f282af7"
      },
      "execution_count": 28,
      "outputs": [
        {
          "output_type": "execute_result",
          "data": {
            "text/plain": [
              "                     count unique  \\\n",
              "company              21996   8469   \n",
              "education            20004   2355   \n",
              "industry             21995     63   \n",
              "jobdescription       21996  21063   \n",
              "joblocation_address  21499   2329   \n",
              "jobtitle             22000  17564   \n",
              "site_name             3987      1   \n",
              "skills               21472     45   \n",
              "\n",
              "                                                                   top  freq  \n",
              "company                          Indian Institute of Technology Bombay   403  \n",
              "education            UG: Any Graduate - Any Specialization, Graduat...  2015  \n",
              "industry                               IT-Software / Software Services  9216  \n",
              "jobdescription       Job Description   Send me Jobs like this Adver...   121  \n",
              "joblocation_address                                Bengaluru/Bangalore  3775  \n",
              "jobtitle                                Business Development Executive    93  \n",
              "site_name                                               www.naukri.com  3987  \n",
              "skills                           IT Software - Application Programming  5989  "
            ],
            "text/html": [
              "\n",
              "  <div id=\"df-9f861ecb-1b0f-46fc-a6cc-554ec73a92be\">\n",
              "    <div class=\"colab-df-container\">\n",
              "      <div>\n",
              "<style scoped>\n",
              "    .dataframe tbody tr th:only-of-type {\n",
              "        vertical-align: middle;\n",
              "    }\n",
              "\n",
              "    .dataframe tbody tr th {\n",
              "        vertical-align: top;\n",
              "    }\n",
              "\n",
              "    .dataframe thead th {\n",
              "        text-align: right;\n",
              "    }\n",
              "</style>\n",
              "<table border=\"1\" class=\"dataframe\">\n",
              "  <thead>\n",
              "    <tr style=\"text-align: right;\">\n",
              "      <th></th>\n",
              "      <th>count</th>\n",
              "      <th>unique</th>\n",
              "      <th>top</th>\n",
              "      <th>freq</th>\n",
              "    </tr>\n",
              "  </thead>\n",
              "  <tbody>\n",
              "    <tr>\n",
              "      <th>company</th>\n",
              "      <td>21996</td>\n",
              "      <td>8469</td>\n",
              "      <td>Indian Institute of Technology Bombay</td>\n",
              "      <td>403</td>\n",
              "    </tr>\n",
              "    <tr>\n",
              "      <th>education</th>\n",
              "      <td>20004</td>\n",
              "      <td>2355</td>\n",
              "      <td>UG: Any Graduate - Any Specialization, Graduat...</td>\n",
              "      <td>2015</td>\n",
              "    </tr>\n",
              "    <tr>\n",
              "      <th>industry</th>\n",
              "      <td>21995</td>\n",
              "      <td>63</td>\n",
              "      <td>IT-Software / Software Services</td>\n",
              "      <td>9216</td>\n",
              "    </tr>\n",
              "    <tr>\n",
              "      <th>jobdescription</th>\n",
              "      <td>21996</td>\n",
              "      <td>21063</td>\n",
              "      <td>Job Description   Send me Jobs like this Adver...</td>\n",
              "      <td>121</td>\n",
              "    </tr>\n",
              "    <tr>\n",
              "      <th>joblocation_address</th>\n",
              "      <td>21499</td>\n",
              "      <td>2329</td>\n",
              "      <td>Bengaluru/Bangalore</td>\n",
              "      <td>3775</td>\n",
              "    </tr>\n",
              "    <tr>\n",
              "      <th>jobtitle</th>\n",
              "      <td>22000</td>\n",
              "      <td>17564</td>\n",
              "      <td>Business Development Executive</td>\n",
              "      <td>93</td>\n",
              "    </tr>\n",
              "    <tr>\n",
              "      <th>site_name</th>\n",
              "      <td>3987</td>\n",
              "      <td>1</td>\n",
              "      <td>www.naukri.com</td>\n",
              "      <td>3987</td>\n",
              "    </tr>\n",
              "    <tr>\n",
              "      <th>skills</th>\n",
              "      <td>21472</td>\n",
              "      <td>45</td>\n",
              "      <td>IT Software - Application Programming</td>\n",
              "      <td>5989</td>\n",
              "    </tr>\n",
              "  </tbody>\n",
              "</table>\n",
              "</div>\n",
              "      <button class=\"colab-df-convert\" onclick=\"convertToInteractive('df-9f861ecb-1b0f-46fc-a6cc-554ec73a92be')\"\n",
              "              title=\"Convert this dataframe to an interactive table.\"\n",
              "              style=\"display:none;\">\n",
              "        \n",
              "  <svg xmlns=\"http://www.w3.org/2000/svg\" height=\"24px\"viewBox=\"0 0 24 24\"\n",
              "       width=\"24px\">\n",
              "    <path d=\"M0 0h24v24H0V0z\" fill=\"none\"/>\n",
              "    <path d=\"M18.56 5.44l.94 2.06.94-2.06 2.06-.94-2.06-.94-.94-2.06-.94 2.06-2.06.94zm-11 1L8.5 8.5l.94-2.06 2.06-.94-2.06-.94L8.5 2.5l-.94 2.06-2.06.94zm10 10l.94 2.06.94-2.06 2.06-.94-2.06-.94-.94-2.06-.94 2.06-2.06.94z\"/><path d=\"M17.41 7.96l-1.37-1.37c-.4-.4-.92-.59-1.43-.59-.52 0-1.04.2-1.43.59L10.3 9.45l-7.72 7.72c-.78.78-.78 2.05 0 2.83L4 21.41c.39.39.9.59 1.41.59.51 0 1.02-.2 1.41-.59l7.78-7.78 2.81-2.81c.8-.78.8-2.07 0-2.86zM5.41 20L4 18.59l7.72-7.72 1.47 1.35L5.41 20z\"/>\n",
              "  </svg>\n",
              "      </button>\n",
              "      \n",
              "  <style>\n",
              "    .colab-df-container {\n",
              "      display:flex;\n",
              "      flex-wrap:wrap;\n",
              "      gap: 12px;\n",
              "    }\n",
              "\n",
              "    .colab-df-convert {\n",
              "      background-color: #E8F0FE;\n",
              "      border: none;\n",
              "      border-radius: 50%;\n",
              "      cursor: pointer;\n",
              "      display: none;\n",
              "      fill: #1967D2;\n",
              "      height: 32px;\n",
              "      padding: 0 0 0 0;\n",
              "      width: 32px;\n",
              "    }\n",
              "\n",
              "    .colab-df-convert:hover {\n",
              "      background-color: #E2EBFA;\n",
              "      box-shadow: 0px 1px 2px rgba(60, 64, 67, 0.3), 0px 1px 3px 1px rgba(60, 64, 67, 0.15);\n",
              "      fill: #174EA6;\n",
              "    }\n",
              "\n",
              "    [theme=dark] .colab-df-convert {\n",
              "      background-color: #3B4455;\n",
              "      fill: #D2E3FC;\n",
              "    }\n",
              "\n",
              "    [theme=dark] .colab-df-convert:hover {\n",
              "      background-color: #434B5C;\n",
              "      box-shadow: 0px 1px 3px 1px rgba(0, 0, 0, 0.15);\n",
              "      filter: drop-shadow(0px 1px 2px rgba(0, 0, 0, 0.3));\n",
              "      fill: #FFFFFF;\n",
              "    }\n",
              "  </style>\n",
              "\n",
              "      <script>\n",
              "        const buttonEl =\n",
              "          document.querySelector('#df-9f861ecb-1b0f-46fc-a6cc-554ec73a92be button.colab-df-convert');\n",
              "        buttonEl.style.display =\n",
              "          google.colab.kernel.accessAllowed ? 'block' : 'none';\n",
              "\n",
              "        async function convertToInteractive(key) {\n",
              "          const element = document.querySelector('#df-9f861ecb-1b0f-46fc-a6cc-554ec73a92be');\n",
              "          const dataTable =\n",
              "            await google.colab.kernel.invokeFunction('convertToInteractive',\n",
              "                                                     [key], {});\n",
              "          if (!dataTable) return;\n",
              "\n",
              "          const docLinkHtml = 'Like what you see? Visit the ' +\n",
              "            '<a target=\"_blank\" href=https://colab.research.google.com/notebooks/data_table.ipynb>data table notebook</a>'\n",
              "            + ' to learn more about interactive tables.';\n",
              "          element.innerHTML = '';\n",
              "          dataTable['output_type'] = 'display_data';\n",
              "          await google.colab.output.renderOutput(dataTable, element);\n",
              "          const docLink = document.createElement('div');\n",
              "          docLink.innerHTML = docLinkHtml;\n",
              "          element.appendChild(docLink);\n",
              "        }\n",
              "      </script>\n",
              "    </div>\n",
              "  </div>\n",
              "  "
            ]
          },
          "metadata": {},
          "execution_count": 28
        }
      ]
    },
    {
      "cell_type": "code",
      "source": [
        "categorical = [col for col in df.columns if df[col].dtype=='object']  # Finding all the Categorical columns\n",
        "print(categorical)"
      ],
      "metadata": {
        "colab": {
          "base_uri": "https://localhost:8080/"
        },
        "id": "_FUNBE9n7q6w",
        "outputId": "422dd7b8-945c-4ed8-bd6a-c988ff7990e3"
      },
      "execution_count": 29,
      "outputs": [
        {
          "output_type": "stream",
          "name": "stdout",
          "text": [
            "['company', 'education', 'industry', 'jobdescription', 'joblocation_address', 'jobtitle', 'site_name', 'skills']\n"
          ]
        }
      ]
    },
    {
      "cell_type": "code",
      "source": [
        "numerical = [col for col in df.columns if df[col].dtype!='object']     # Finding all the Numerical columns\n",
        "print(numerical)"
      ],
      "metadata": {
        "colab": {
          "base_uri": "https://localhost:8080/"
        },
        "id": "11IKc82E8kTY",
        "outputId": "0d230263-07c2-4ed1-8ac8-f5abdabaa057"
      },
      "execution_count": 30,
      "outputs": [
        {
          "output_type": "stream",
          "name": "stdout",
          "text": [
            "['numberofpositions', 'min_pay', 'max_pay', 'avg_pay', 'min_exp', 'max_exp', 'day', 'month', 'year']\n"
          ]
        }
      ]
    },
    {
      "cell_type": "code",
      "source": [
        "plt.figure(figsize=(10,6))\n",
        "sns.heatmap(df.corr(),annot=True)\n",
        "plt.title('HeatMap of Jobmarket in India')"
      ],
      "metadata": {
        "colab": {
          "base_uri": "https://localhost:8080/",
          "height": 490
        },
        "id": "Fb5sifdl9JM3",
        "outputId": "a308af74-c01c-4aad-bd92-e346e3f70b31"
      },
      "execution_count": 31,
      "outputs": [
        {
          "output_type": "execute_result",
          "data": {
            "text/plain": [
              "Text(0.5, 1.0, 'HeatMap of Jobmarket in India')"
            ]
          },
          "metadata": {},
          "execution_count": 31
        },
        {
          "output_type": "display_data",
          "data": {
            "text/plain": [
              "<Figure size 720x432 with 2 Axes>"
            ],
            "image/png": "[encoded data removed]"
          },
          "metadata": {
            "needs_background": "light"
          }
        }
      ]
    },
    {
      "cell_type": "code",
      "source": [
        "data=df.copy()   # making a copy to reduce the complexity in df dataframe"
      ],
      "metadata": {
        "id": "tU_Wikz69Ts3"
      },
      "execution_count": 32,
      "outputs": []
    },
    {
      "cell_type": "code",
      "source": [
        "data['company'].value_counts().head(10)"
      ],
      "metadata": {
        "colab": {
          "base_uri": "https://localhost:8080/"
        },
        "id": "t-OG7O6q_wlP",
        "outputId": "836ed669-26ea-45ae-c144-d05884d680c3"
      },
      "execution_count": 33,
      "outputs": [
        {
          "output_type": "execute_result",
          "data": {
            "text/plain": [
              "Indian Institute of Technology Bombay           403\n",
              "Confidential                                    393\n",
              "National Institute of Industrial Engineering    185\n",
              "Oracle India Pvt. Ltd.                          151\n",
              "JPMorgan Chase                                  135\n",
              "Godrej Industries Ltd                           125\n",
              "Unitforce technologies Pvt. Ltd.                100\n",
              "Capgemini                                        98\n",
              "HCL Technologies                                 95\n",
              "Axis Jobs                                        92\n",
              "Name: company, dtype: int64"
            ]
          },
          "metadata": {},
          "execution_count": 33
        }
      ]
    },
    {
      "cell_type": "code",
      "source": [
        "plt.figure(figsize=(15,5))\n",
        "data['company'].value_counts().head(10).plot(kind='bar')\n",
        "plt.title('TOP TEN COMAPNIES WITH MOST NUMBER OF JOBS')"
      ],
      "metadata": {
        "colab": {
          "base_uri": "https://localhost:8080/",
          "height": 555
        },
        "id": "t5Wgrw-GBFRf",
        "outputId": "b085fc7c-c2e1-40e0-de2d-bfae1c3c2293"
      },
      "execution_count": 34,
      "outputs": [
        {
          "output_type": "execute_result",
          "data": {
            "text/plain": [
              "Text(0.5, 1.0, 'TOP TEN COMAPNIES WITH MOST NUMBER OF JOBS')"
            ]
          },
          "metadata": {},
          "execution_count": 34
        },
        {
          "output_type": "display_data",
          "data": {
            "text/plain": [
              "<Figure size 1080x360 with 1 Axes>"
            ],
            "image/png": "[encoded data removed]"
          },
          "metadata": {
            "needs_background": "light"
          }
        }
      ]
    },
    {
      "cell_type": "code",
      "source": [
        "data['industry'].value_counts().head(10)"
      ],
      "metadata": {
        "colab": {
          "base_uri": "https://localhost:8080/"
        },
        "id": "zJiw7p0FNlbu",
        "outputId": "9e3a576a-043c-4705-c79d-552a7b2980a7"
      },
      "execution_count": 35,
      "outputs": [
        {
          "output_type": "execute_result",
          "data": {
            "text/plain": [
              "IT-Software / Software Services                  9216\n",
              "Education / Teaching / Training                  1322\n",
              "BPO / Call Centre / ITES                         1254\n",
              "Banking / Financial Services / Broking           1238\n",
              "Recruitment / Staffing                           1129\n",
              "Internet / Ecommerce                              738\n",
              "Pharma / Biotech / Clinical Research              525\n",
              "Medical / Healthcare / Hospitals                  495\n",
              "Automobile / Auto Anciliary / Auto Components     478\n",
              "Construction / Engineering / Cement / Metals      449\n",
              "Name: industry, dtype: int64"
            ]
          },
          "metadata": {},
          "execution_count": 35
        }
      ]
    },
    {
      "cell_type": "code",
      "source": [
        "plt.figure(figsize=(20,10))\n",
        "data['industry'].value_counts().head(10).plot(kind='pie',autopct='%.2f%%')\n",
        "plt.title('TOP 10 DEMANDED INDUSTRIES IN INDIA')"
      ],
      "metadata": {
        "colab": {
          "base_uri": "https://localhost:8080/",
          "height": 608
        },
        "id": "M4SzRdX4Zl9p",
        "outputId": "1e1988e7-93c3-4a9a-d3d4-b34b30dd8be8"
      },
      "execution_count": 36,
      "outputs": [
        {
          "output_type": "execute_result",
          "data": {
            "text/plain": [
              "Text(0.5, 1.0, 'TOP 10 DEMANDED INDUSTRIES IN INDIA')"
            ]
          },
          "metadata": {},
          "execution_count": 36
        },
        {
          "output_type": "display_data",
          "data": {
            "text/plain": [
              "<Figure size 1440x720 with 1 Axes>"
            ],
            "image/png": "[encoded data removed]"
          },
          "metadata": {}
        }
      ]
    },
    {
      "cell_type": "code",
      "source": [
        "plt.figure(figsize=(15,5))\n",
        "data['skills'].value_counts().head(10).plot(kind = 'bar')\n",
        "plt.title('TOP 10 DEMANDED SKILLS IN INDIA')"
      ],
      "metadata": {
        "colab": {
          "base_uri": "https://localhost:8080/",
          "height": 535
        },
        "id": "1dQQkR0eZ51s",
        "outputId": "73b6dc99-eb04-40a3-c134-b8317730f7db"
      },
      "execution_count": 37,
      "outputs": [
        {
          "output_type": "execute_result",
          "data": {
            "text/plain": [
              "Text(0.5, 1.0, 'TOP 10 DEMANDED SKILLS IN INDIA')"
            ]
          },
          "metadata": {},
          "execution_count": 37
        },
        {
          "output_type": "display_data",
          "data": {
            "text/plain": [
              "<Figure size 1080x360 with 1 Axes>"
            ],
            "image/png": "[encoded data removed]"
          },
          "metadata": {
            "needs_background": "light"
          }
        }
      ]
    },
    {
      "cell_type": "code",
      "source": [
        "# Replacing all the reoccuring cities \n",
        "\n",
        "replacements = {\n",
        "   'joblocation_address': {\n",
        "      r'(Bengaluru/Bangalore)': 'Bangalore',\n",
        "      r'Bengaluru': 'Bangalore',\n",
        "      r'Hyderabad / Secunderabad': 'Hyderabad',\n",
        "      r'Mumbai , Mumbai': 'Mumbai',\n",
        "      r'Noida': 'NCR',\n",
        "      r'Delhi': 'NCR',\n",
        "      r'Gurgaon': 'NCR', \n",
        "      r'Delhi/NCR(National Capital Region)': 'NCR',\n",
        "      r'Delhi , Delhi': 'NCR',\n",
        "      r'Noida , Noida/Greater Noida': 'NCR',\n",
        "      r'Ghaziabad': 'NCR',\n",
        "      r'Delhi/NCR(National Capital Region) , Gurgaon': 'NCR',\n",
        "      r'NCR , NCR': 'NCR',\n",
        "      r'NCR/NCR(National Capital Region)': 'NCR',\n",
        "      r'NCR , NCR/Greater NCR': 'NCR',\n",
        "      r'NCR/NCR(National Capital Region) , NCR': 'NCR', \n",
        "      r'NCR , NCR/NCR(National Capital Region)': 'NCR', \n",
        "      r'Bangalore , Bangalore / Bangalore': 'Bangalore',\n",
        "      r'Bangalore , karnataka': 'Bangalore',\n",
        "      r'NCR/NCR(National Capital Region)': 'NCR',\n",
        "      r'NCR/Greater NCR': 'NCR',\n",
        "      r'NCR/NCR(National Capital Region) , NCR': 'NCR'\n",
        "       \n",
        "   }\n",
        "}\n",
        "\n",
        "data.replace(replacements, regex=True, inplace=True)"
      ],
      "metadata": {
        "id": "yvsNubcMb8Yc"
      },
      "execution_count": 38,
      "outputs": []
    },
    {
      "cell_type": "code",
      "source": [
        "data['joblocation_address'].value_counts().head(10)"
      ],
      "metadata": {
        "colab": {
          "base_uri": "https://localhost:8080/"
        },
        "id": "pbz9qxLLdN0k",
        "outputId": "c9788f28-cf44-4483-832b-41e53c15e783"
      },
      "execution_count": 39,
      "outputs": [
        {
          "output_type": "execute_result",
          "data": {
            "text/plain": [
              "Bangalore                                 5289\n",
              "Mumbai                                    2862\n",
              "NCR                                       2383\n",
              "Hyderabad                                 2182\n",
              "Chennai                                   1204\n",
              "NCR , NCR                                  548\n",
              "NCR/NCR(National Capital Region)           383\n",
              "Bangalore , Bangalore / Bangalore          360\n",
              "NCR , NCR/Greater NCR                      313\n",
              "NCR/NCR(National Capital Region) , NCR     156\n",
              "Name: joblocation_address, dtype: int64"
            ]
          },
          "metadata": {},
          "execution_count": 39
        }
      ]
    },
    {
      "cell_type": "code",
      "source": [
        "plt.figure(figsize=(15,5))\n",
        "data['joblocation_address'].value_counts().head(5).plot(kind='bar')\n",
        "plt.title('TOP CITIES OF MOST NUMBER OF JOBS')"
      ],
      "metadata": {
        "colab": {
          "base_uri": "https://localhost:8080/",
          "height": 398
        },
        "id": "ad_z1Nv9do1L",
        "outputId": "44811ffd-e743-43a0-fa96-259f2fab836a"
      },
      "execution_count": 40,
      "outputs": [
        {
          "output_type": "execute_result",
          "data": {
            "text/plain": [
              "Text(0.5, 1.0, 'TOP CITIES OF MOST NUMBER OF JOBS')"
            ]
          },
          "metadata": {},
          "execution_count": 40
        },
        {
          "output_type": "display_data",
          "data": {
            "text/plain": [
              "<Figure size 1080x360 with 1 Axes>"
            ],
            "image/png": "[encoded data removed]"
          },
          "metadata": {
            "needs_background": "light"
          }
        }
      ]
    },
    {
      "cell_type": "code",
      "source": [
        "plt.figure(figsize=(20,10))\n",
        "data['jobtitle'].value_counts().head(5).plot(kind='pie',autopct='%.2f%%')\n",
        "plt.title('TOP 5 JOB TITLES IN INDIA')"
      ],
      "metadata": {
        "colab": {
          "base_uri": "https://localhost:8080/",
          "height": 608
        },
        "id": "O94fHM1Pe3nr",
        "outputId": "a1a9070d-28d4-4849-c6ce-53ffd8e5dee1"
      },
      "execution_count": 41,
      "outputs": [
        {
          "output_type": "execute_result",
          "data": {
            "text/plain": [
              "Text(0.5, 1.0, 'TOP 5 JOB TITLES IN INDIA')"
            ]
          },
          "metadata": {},
          "execution_count": 41
        },
        {
          "output_type": "display_data",
          "data": {
            "text/plain": [
              "<Figure size 1440x720 with 1 Axes>"
            ],
            "image/png": "[encoded data removed]"
          },
          "metadata": {}
        }
      ]
    },
    {
      "cell_type": "code",
      "source": [
        "plt.figure(figsize=(14,6))\n",
        "sns.stripplot(x='min_exp',y='min_pay',data=data)\n",
        "sns.boxplot(x='min_exp',y='min_pay',data=data)\n",
        "plt.title('Stripplots between min_exp & min_exp')"
      ],
      "metadata": {
        "colab": {
          "base_uri": "https://localhost:8080/",
          "height": 422
        },
        "id": "1KzQAIN1pJt4",
        "outputId": "f8ebd65d-db4f-4dda-ed19-8bb8822a7a0d"
      },
      "execution_count": 42,
      "outputs": [
        {
          "output_type": "execute_result",
          "data": {
            "text/plain": [
              "Text(0.5, 1.0, 'Stripplots between min_exp & min_exp')"
            ]
          },
          "metadata": {},
          "execution_count": 42
        },
        {
          "output_type": "display_data",
          "data": {
            "text/plain": [
              "<Figure size 1008x432 with 1 Axes>"
            ],
            "image/png": "[encoded data removed]"
          },
          "metadata": {
            "needs_background": "light"
          }
        }
      ]
    },
    {
      "cell_type": "code",
      "source": [
        "plt.figure(figsize=(14,6))\n",
        "sns.stripplot(x='max_exp',y='max_pay',data=data)\n",
        "sns.boxplot(x='max_exp',y='max_pay',data=data)\n",
        "plt.title('Stripplots between max_exp & max_exp')"
      ],
      "metadata": {
        "colab": {
          "base_uri": "https://localhost:8080/",
          "height": 421
        },
        "id": "fMpbCoK-rHrY",
        "outputId": "bf8673ad-13aa-463b-883e-4c5542ac591b"
      },
      "execution_count": 43,
      "outputs": [
        {
          "output_type": "execute_result",
          "data": {
            "text/plain": [
              "Text(0.5, 1.0, 'Stripplots between max_exp & max_exp')"
            ]
          },
          "metadata": {},
          "execution_count": 43
        },
        {
          "output_type": "display_data",
          "data": {
            "text/plain": [
              "<Figure size 1008x432 with 1 Axes>"
            ],
            "image/png": "[encoded data removed]"
          },
          "metadata": {
            "needs_background": "light"
          }
        }
      ]
    },
    {
      "cell_type": "code",
      "source": [
        "plt.figure(figsize=(15,5))\n",
        "data[['max_pay','industry']].groupby([\"industry\"]).median().sort_values(by='max_pay',ascending=False).head(10).plot.bar(color='lightblue')\n",
        "plt.title('TOP 10 INDUSTRY WITH MAXIMUM PAY')"
      ],
      "metadata": {
        "colab": {
          "base_uri": "https://localhost:8080/",
          "height": 525
        },
        "id": "Tl3liJRDs6Xb",
        "outputId": "e9f28633-5778-4e8d-9558-e41a6971cced"
      },
      "execution_count": 44,
      "outputs": [
        {
          "output_type": "execute_result",
          "data": {
            "text/plain": [
              "Text(0.5, 1.0, 'TOP 10 INDUSTRY WITH MAXIMUM PAY')"
            ]
          },
          "metadata": {},
          "execution_count": 44
        },
        {
          "output_type": "display_data",
          "data": {
            "text/plain": [
              "<Figure size 1080x360 with 0 Axes>"
            ]
          },
          "metadata": {}
        },
        {
          "output_type": "display_data",
          "data": {
            "text/plain": [
              "<Figure size 432x288 with 1 Axes>"
            ],
            "image/png": "[encoded data removed]"
          },
          "metadata": {
            "needs_background": "light"
          }
        }
      ]
    },
    {
      "cell_type": "code",
      "source": [
        "plt.figure(figsize=(15,5))\n",
        "data[['avg_pay','skills']].groupby([\"skills\"]).median().sort_values(by='avg_pay',ascending=False).head(10).plot.bar(color='blue')\n",
        "plt.title('TOP 10 SKILLS WITH MAXIMUM AVERAGE PAY')"
      ],
      "metadata": {
        "colab": {
          "base_uri": "https://localhost:8080/",
          "height": 493
        },
        "id": "jaiSxho1s_wx",
        "outputId": "7c112572-4e4b-474f-e21f-1c0c1a2b93ad"
      },
      "execution_count": 45,
      "outputs": [
        {
          "output_type": "execute_result",
          "data": {
            "text/plain": [
              "Text(0.5, 1.0, 'TOP 10 SKILLS WITH MAXIMUM AVERAGE PAY')"
            ]
          },
          "metadata": {},
          "execution_count": 45
        },
        {
          "output_type": "display_data",
          "data": {
            "text/plain": [
              "<Figure size 1080x360 with 0 Axes>"
            ]
          },
          "metadata": {}
        },
        {
          "output_type": "display_data",
          "data": {
            "text/plain": [
              "<Figure size 432x288 with 1 Axes>"
            ],
            "image/png": "[encoded data removed]"
          },
          "metadata": {
            "needs_background": "light"
          }
        }
      ]
    },
    {
      "cell_type": "code",
      "source": [
        "plt.figure(figsize=(15,5))\n",
        "data.groupby('industry')['numberofpositions'].sum().sort_values(ascending=False).head(5).plot(kind='bar')\n",
        "plt.title('TOP 5 INDUSTRY WITH MOST NUMBER OF VACANCIES')"
      ],
      "metadata": {
        "colab": {
          "base_uri": "https://localhost:8080/",
          "height": 598
        },
        "id": "OyYrdqzMuluI",
        "outputId": "c79f6a73-cd65-41ba-dc4b-34866d0b14c8"
      },
      "execution_count": 46,
      "outputs": [
        {
          "output_type": "execute_result",
          "data": {
            "text/plain": [
              "Text(0.5, 1.0, 'TOP 5 INDUSTRY WITH MOST NUMBER OF VACANCIES')"
            ]
          },
          "metadata": {},
          "execution_count": 46
        },
        {
          "output_type": "display_data",
          "data": {
            "text/plain": [
              "<Figure size 1080x360 with 1 Axes>"
            ],
            "image/png": "[encoded data removed]"
          },
          "metadata": {
            "needs_background": "light"
          }
        }
      ]
    }
  ]
}